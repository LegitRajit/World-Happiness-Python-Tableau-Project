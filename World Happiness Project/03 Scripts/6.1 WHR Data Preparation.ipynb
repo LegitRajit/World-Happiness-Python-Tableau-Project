{
 "cells": [
  {
   "cell_type": "markdown",
   "id": "da0e6927-1ade-4b3f-a987-89cdc18bc319",
   "metadata": {},
   "source": [
    "# Table of Contents"
   ]
  },
  {
   "cell_type": "markdown",
   "id": "1ebf8bc1-ed7d-40e8-8b67-b313b8c22322",
   "metadata": {},
   "source": [
    "01 Importing Libararies <br/>\n",
    "02 Importing Data <br/>\n",
    "03 Data Cleaning\n",
    "- Removing Unneccessary Columns and Creating Column Consistency \n",
    "- Data Quality Checks\n",
    "    - Mixed Type Data\n",
    "    - Missing Data\n",
    "    - Duplicate Data  <br/> <br/>\n",
    "\n",
    "04 Data Wrangling\n",
    "- Adding Year Columns for each dataset\n",
    "- Making a merged dataset\n",
    "\n",
    "05 Exporting Data "
   ]
  },
  {
   "cell_type": "markdown",
   "id": "710942c7-681e-4c83-a101-060708aa8e95",
   "metadata": {},
   "source": [
    "# 01 Importing Libraries"
   ]
  },
  {
   "cell_type": "code",
   "execution_count": 1,
   "id": "169511a8-e797-49d4-95c3-a948ce3a70eb",
   "metadata": {},
   "outputs": [],
   "source": [
    "# Importing Libaries\n",
    "import pandas as pd\n",
    "import numpy as np\n",
    "import os"
   ]
  },
  {
   "cell_type": "markdown",
   "id": "39bfb9a1-2fc2-42d6-b2ba-24711c43e0a8",
   "metadata": {},
   "source": [
    "# 02 Importing Data"
   ]
  },
  {
   "cell_type": "code",
   "execution_count": 2,
   "id": "4d700abb-1f6a-4d59-8155-e80f4bc917d5",
   "metadata": {},
   "outputs": [],
   "source": [
    "# Creating basic path\n",
    "path = \"A:\\Python\\World Happiness Project\""
   ]
  },
  {
   "cell_type": "code",
   "execution_count": 3,
   "id": "60ae419d-3373-40af-afe5-5694ecda6b4f",
   "metadata": {},
   "outputs": [],
   "source": [
    "# Importing Each WHR Excel Report for each year into the workbook\n",
    "\n",
    "# Importing 2015 World Happiness Report \n",
    "df_whr15 = pd.read_csv(os.path.join(path, '02 Data' , 'Original Data', 'WHR 2015.csv'),index_col = False)\n",
    "\n",
    "# Importing 2016 World Happiness Report \n",
    "df_whr16 = pd.read_csv(os.path.join(path, '02 Data' , 'Original Data', 'WHR 2016.csv'),index_col = False)\n",
    "\n",
    "# Importing 2017 World Happiness Report \n",
    "df_whr17 = pd.read_csv(os.path.join(path, '02 Data' , 'Original Data', 'WHR 2017.csv'),index_col = False)\n",
    "\n",
    "# Importing 2018 World Happiness Report \n",
    "df_whr18 = pd.read_csv(os.path.join(path, '02 Data' , 'Original Data', 'WHR 2018.csv'),index_col = False)\n",
    "\n",
    "# Importing 2019 World Happiness Report \n",
    "df_whr19 = pd.read_csv(os.path.join(path, '02 Data' , 'Original Data', 'WHR 2019.csv'),index_col = False)\n",
    "\n",
    "# Importing 2020 World Happiness Report \n",
    "df_whr20 = pd.read_csv(os.path.join(path, '02 Data' , 'Original Data', 'WHR 2020.csv'),index_col = False)\n",
    "\n",
    "# Importing 2021 World Happiness Report \n",
    "df_whr21 = pd.read_csv(os.path.join(path, '02 Data' , 'Original Data', 'WHR 2021.csv'),index_col = False)\n",
    "\n",
    "# Importing 2022 World Happiness Report \n",
    "df_whr22 = pd.read_csv(os.path.join(path, '02 Data' , 'Original Data', 'WHR 2022.csv'),index_col = False)\n"
   ]
  },
  {
   "cell_type": "markdown",
   "id": "58d2b937-617b-459b-85cb-93930e5f62cd",
   "metadata": {},
   "source": [
    "# 03 Data Cleaning"
   ]
  },
  {
   "cell_type": "markdown",
   "id": "6a919d62-252e-49c9-91f9-10a9178af248",
   "metadata": {},
   "source": [
    "## Removing Unneccessary Columns and Creating Column Consistency"
   ]
  },
  {
   "cell_type": "markdown",
   "id": "68cd7ce3-e7e8-4a8f-8879-63d5e314efad",
   "metadata": {},
   "source": [
    "The Columns I need for each yearly report are: <br/>\n",
    "- Country <br/>\n",
    "- Region <br/>\n",
    "- Happiness Score <br/>\n",
    "- GDP Per Capita <br/>\n",
    "- Social Support <br/>\n",
    "- Healthy Life Expectancy <br/>\n",
    "- Freedom to make life choices <br/>\n",
    "- Generosity <br/>\n",
    "- Perceptions of Corruption <br/>\n",
    "\n",
    "The reason being is that the other columns are inconsistent accross various datasets. Also these are the most important things when it comes to world happiness."
   ]
  },
  {
   "cell_type": "markdown",
   "id": "27a8c85f-059d-442e-bf15-b1c195045ee4",
   "metadata": {},
   "source": [
    "### 2015"
   ]
  },
  {
   "cell_type": "code",
   "execution_count": 7,
   "id": "fd898e7b-e500-4a5b-9e5e-ed4be53cc33f",
   "metadata": {},
   "outputs": [
    {
     "data": {
      "text/html": [
       "<div>\n",
       "<style scoped>\n",
       "    .dataframe tbody tr th:only-of-type {\n",
       "        vertical-align: middle;\n",
       "    }\n",
       "\n",
       "    .dataframe tbody tr th {\n",
       "        vertical-align: top;\n",
       "    }\n",
       "\n",
       "    .dataframe thead th {\n",
       "        text-align: right;\n",
       "    }\n",
       "</style>\n",
       "<table border=\"1\" class=\"dataframe\">\n",
       "  <thead>\n",
       "    <tr style=\"text-align: right;\">\n",
       "      <th></th>\n",
       "      <th>Country</th>\n",
       "      <th>Happiness Score</th>\n",
       "      <th>GDP per Capita</th>\n",
       "      <th>Social Support</th>\n",
       "      <th>Healthy Life Expectancy</th>\n",
       "      <th>Freedom to make life choices</th>\n",
       "      <th>Perceptions of Corruption</th>\n",
       "      <th>Generosity</th>\n",
       "    </tr>\n",
       "  </thead>\n",
       "  <tbody>\n",
       "    <tr>\n",
       "      <th>0</th>\n",
       "      <td>Switzerland</td>\n",
       "      <td>7.587</td>\n",
       "      <td>1.39651</td>\n",
       "      <td>1.34951</td>\n",
       "      <td>0.94143</td>\n",
       "      <td>0.66557</td>\n",
       "      <td>0.41978</td>\n",
       "      <td>0.29678</td>\n",
       "    </tr>\n",
       "    <tr>\n",
       "      <th>1</th>\n",
       "      <td>Iceland</td>\n",
       "      <td>7.561</td>\n",
       "      <td>1.30232</td>\n",
       "      <td>1.40223</td>\n",
       "      <td>0.94784</td>\n",
       "      <td>0.62877</td>\n",
       "      <td>0.14145</td>\n",
       "      <td>0.43630</td>\n",
       "    </tr>\n",
       "    <tr>\n",
       "      <th>2</th>\n",
       "      <td>Denmark</td>\n",
       "      <td>7.527</td>\n",
       "      <td>1.32548</td>\n",
       "      <td>1.36058</td>\n",
       "      <td>0.87464</td>\n",
       "      <td>0.64938</td>\n",
       "      <td>0.48357</td>\n",
       "      <td>0.34139</td>\n",
       "    </tr>\n",
       "    <tr>\n",
       "      <th>3</th>\n",
       "      <td>Norway</td>\n",
       "      <td>7.522</td>\n",
       "      <td>1.45900</td>\n",
       "      <td>1.33095</td>\n",
       "      <td>0.88521</td>\n",
       "      <td>0.66973</td>\n",
       "      <td>0.36503</td>\n",
       "      <td>0.34699</td>\n",
       "    </tr>\n",
       "    <tr>\n",
       "      <th>4</th>\n",
       "      <td>Canada</td>\n",
       "      <td>7.427</td>\n",
       "      <td>1.32629</td>\n",
       "      <td>1.32261</td>\n",
       "      <td>0.90563</td>\n",
       "      <td>0.63297</td>\n",
       "      <td>0.32957</td>\n",
       "      <td>0.45811</td>\n",
       "    </tr>\n",
       "  </tbody>\n",
       "</table>\n",
       "</div>"
      ],
      "text/plain": [
       "       Country  Happiness Score  GDP per Capita  Social Support  \\\n",
       "0  Switzerland            7.587         1.39651         1.34951   \n",
       "1      Iceland            7.561         1.30232         1.40223   \n",
       "2      Denmark            7.527         1.32548         1.36058   \n",
       "3       Norway            7.522         1.45900         1.33095   \n",
       "4       Canada            7.427         1.32629         1.32261   \n",
       "\n",
       "   Healthy Life Expectancy  Freedom to make life choices  \\\n",
       "0                  0.94143                       0.66557   \n",
       "1                  0.94784                       0.62877   \n",
       "2                  0.87464                       0.64938   \n",
       "3                  0.88521                       0.66973   \n",
       "4                  0.90563                       0.63297   \n",
       "\n",
       "   Perceptions of Corruption  Generosity  \n",
       "0                    0.41978     0.29678  \n",
       "1                    0.14145     0.43630  \n",
       "2                    0.48357     0.34139  \n",
       "3                    0.36503     0.34699  \n",
       "4                    0.32957     0.45811  "
      ]
     },
     "execution_count": 7,
     "metadata": {},
     "output_type": "execute_result"
    }
   ],
   "source": [
    "df_whr15.head()"
   ]
  },
  {
   "cell_type": "code",
   "execution_count": 5,
   "id": "cf691b47-4363-4aa3-ade5-4e2f3a381cc4",
   "metadata": {},
   "outputs": [],
   "source": [
    "# Dropping Region, Happiness Rank, Standard Error, and Dystopia Residual columns from 2015 World Happiness Report\n",
    "df_whr15.drop(columns = ['Region','Happiness Rank', 'Standard Error', 'Dystopia Residual'], inplace = True)"
   ]
  },
  {
   "cell_type": "code",
   "execution_count": 6,
   "id": "d1b3a9dd-7624-4874-b19e-4878d040a665",
   "metadata": {},
   "outputs": [],
   "source": [
    "# Renaming Columns \n",
    "df_whr15 = df_whr15.rename(columns={'Economy (GDP per Capita)':'GDP per Capita', 'Family': 'Social Support', 'Health (Life Expectancy)': 'Healthy Life Expectancy', 'Freedom': 'Freedom to make life choices',\n",
    "                                    'Trust (Government Corruption)': 'Perceptions of Corruption'})"
   ]
  },
  {
   "cell_type": "markdown",
   "id": "2d9fe92d-b96a-49ba-b312-4a61d9bb6ecc",
   "metadata": {},
   "source": [
    "### 2016"
   ]
  },
  {
   "cell_type": "code",
   "execution_count": 11,
   "id": "8af8a46d-85e4-40f5-a056-463ba2dfb4a4",
   "metadata": {},
   "outputs": [
    {
     "data": {
      "text/html": [
       "<div>\n",
       "<style scoped>\n",
       "    .dataframe tbody tr th:only-of-type {\n",
       "        vertical-align: middle;\n",
       "    }\n",
       "\n",
       "    .dataframe tbody tr th {\n",
       "        vertical-align: top;\n",
       "    }\n",
       "\n",
       "    .dataframe thead th {\n",
       "        text-align: right;\n",
       "    }\n",
       "</style>\n",
       "<table border=\"1\" class=\"dataframe\">\n",
       "  <thead>\n",
       "    <tr style=\"text-align: right;\">\n",
       "      <th></th>\n",
       "      <th>Country</th>\n",
       "      <th>Happiness Score</th>\n",
       "      <th>GDP per Capita</th>\n",
       "      <th>Social Support</th>\n",
       "      <th>Healthy Life Expectancy</th>\n",
       "      <th>Freedom to make life choices</th>\n",
       "      <th>Perceptions of Corruption</th>\n",
       "      <th>Generosity</th>\n",
       "    </tr>\n",
       "  </thead>\n",
       "  <tbody>\n",
       "    <tr>\n",
       "      <th>0</th>\n",
       "      <td>Denmark</td>\n",
       "      <td>7.526</td>\n",
       "      <td>1.44178</td>\n",
       "      <td>1.16374</td>\n",
       "      <td>0.79504</td>\n",
       "      <td>0.57941</td>\n",
       "      <td>0.44453</td>\n",
       "      <td>0.36171</td>\n",
       "    </tr>\n",
       "    <tr>\n",
       "      <th>1</th>\n",
       "      <td>Switzerland</td>\n",
       "      <td>7.509</td>\n",
       "      <td>1.52733</td>\n",
       "      <td>1.14524</td>\n",
       "      <td>0.86303</td>\n",
       "      <td>0.58557</td>\n",
       "      <td>0.41203</td>\n",
       "      <td>0.28083</td>\n",
       "    </tr>\n",
       "    <tr>\n",
       "      <th>2</th>\n",
       "      <td>Iceland</td>\n",
       "      <td>7.501</td>\n",
       "      <td>1.42666</td>\n",
       "      <td>1.18326</td>\n",
       "      <td>0.86733</td>\n",
       "      <td>0.56624</td>\n",
       "      <td>0.14975</td>\n",
       "      <td>0.47678</td>\n",
       "    </tr>\n",
       "    <tr>\n",
       "      <th>3</th>\n",
       "      <td>Norway</td>\n",
       "      <td>7.498</td>\n",
       "      <td>1.57744</td>\n",
       "      <td>1.12690</td>\n",
       "      <td>0.79579</td>\n",
       "      <td>0.59609</td>\n",
       "      <td>0.35776</td>\n",
       "      <td>0.37895</td>\n",
       "    </tr>\n",
       "    <tr>\n",
       "      <th>4</th>\n",
       "      <td>Finland</td>\n",
       "      <td>7.413</td>\n",
       "      <td>1.40598</td>\n",
       "      <td>1.13464</td>\n",
       "      <td>0.81091</td>\n",
       "      <td>0.57104</td>\n",
       "      <td>0.41004</td>\n",
       "      <td>0.25492</td>\n",
       "    </tr>\n",
       "  </tbody>\n",
       "</table>\n",
       "</div>"
      ],
      "text/plain": [
       "       Country  Happiness Score  GDP per Capita  Social Support  \\\n",
       "0      Denmark            7.526         1.44178         1.16374   \n",
       "1  Switzerland            7.509         1.52733         1.14524   \n",
       "2      Iceland            7.501         1.42666         1.18326   \n",
       "3       Norway            7.498         1.57744         1.12690   \n",
       "4      Finland            7.413         1.40598         1.13464   \n",
       "\n",
       "   Healthy Life Expectancy  Freedom to make life choices  \\\n",
       "0                  0.79504                       0.57941   \n",
       "1                  0.86303                       0.58557   \n",
       "2                  0.86733                       0.56624   \n",
       "3                  0.79579                       0.59609   \n",
       "4                  0.81091                       0.57104   \n",
       "\n",
       "   Perceptions of Corruption  Generosity  \n",
       "0                    0.44453     0.36171  \n",
       "1                    0.41203     0.28083  \n",
       "2                    0.14975     0.47678  \n",
       "3                    0.35776     0.37895  \n",
       "4                    0.41004     0.25492  "
      ]
     },
     "execution_count": 11,
     "metadata": {},
     "output_type": "execute_result"
    }
   ],
   "source": [
    "df_whr16.head()"
   ]
  },
  {
   "cell_type": "code",
   "execution_count": 9,
   "id": "3c3e20a0-b2af-494b-9fe8-147ccbe0a56c",
   "metadata": {},
   "outputs": [],
   "source": [
    "# Dropping Region, Happiness Rank, Standard Error, and Dystopia Residual columns from 2016 World Happiness Report\n",
    "df_whr16.drop(columns = ['Region','Happiness Rank', 'Lower Confidence Interval','Upper Confidence Interval', 'Dystopia Residual'], inplace = True)"
   ]
  },
  {
   "cell_type": "code",
   "execution_count": 10,
   "id": "9e463a57-3ec7-4664-bae4-34fcd4c0241a",
   "metadata": {},
   "outputs": [],
   "source": [
    "# Renaming Columns \n",
    "df_whr16 = df_whr16.rename(columns={'Economy (GDP per Capita)':'GDP per Capita', 'Family': 'Social Support', 'Health (Life Expectancy)': 'Healthy Life Expectancy', 'Freedom': 'Freedom to make life choices',\n",
    "                                    'Trust (Government Corruption)': 'Perceptions of Corruption'})"
   ]
  },
  {
   "cell_type": "markdown",
   "id": "d333014a-93f0-4848-8ec9-8bd481bfc833",
   "metadata": {},
   "source": [
    "### 2017"
   ]
  },
  {
   "cell_type": "code",
   "execution_count": 15,
   "id": "da0d2f29-3fa8-466d-a0e1-d2f57986b5ca",
   "metadata": {},
   "outputs": [
    {
     "data": {
      "text/html": [
       "<div>\n",
       "<style scoped>\n",
       "    .dataframe tbody tr th:only-of-type {\n",
       "        vertical-align: middle;\n",
       "    }\n",
       "\n",
       "    .dataframe tbody tr th {\n",
       "        vertical-align: top;\n",
       "    }\n",
       "\n",
       "    .dataframe thead th {\n",
       "        text-align: right;\n",
       "    }\n",
       "</style>\n",
       "<table border=\"1\" class=\"dataframe\">\n",
       "  <thead>\n",
       "    <tr style=\"text-align: right;\">\n",
       "      <th></th>\n",
       "      <th>Country</th>\n",
       "      <th>Happiness Score</th>\n",
       "      <th>GDP per Capita</th>\n",
       "      <th>Social Support</th>\n",
       "      <th>Healthy Life Expectancy</th>\n",
       "      <th>Freedom to make life choices</th>\n",
       "      <th>Generosity</th>\n",
       "      <th>Perceptions of Corruption</th>\n",
       "    </tr>\n",
       "  </thead>\n",
       "  <tbody>\n",
       "    <tr>\n",
       "      <th>0</th>\n",
       "      <td>Norway</td>\n",
       "      <td>7.537</td>\n",
       "      <td>1.616463</td>\n",
       "      <td>1.533524</td>\n",
       "      <td>0.796667</td>\n",
       "      <td>0.635423</td>\n",
       "      <td>0.362012</td>\n",
       "      <td>0.315964</td>\n",
       "    </tr>\n",
       "    <tr>\n",
       "      <th>1</th>\n",
       "      <td>Denmark</td>\n",
       "      <td>7.522</td>\n",
       "      <td>1.482383</td>\n",
       "      <td>1.551122</td>\n",
       "      <td>0.792566</td>\n",
       "      <td>0.626007</td>\n",
       "      <td>0.355280</td>\n",
       "      <td>0.400770</td>\n",
       "    </tr>\n",
       "    <tr>\n",
       "      <th>2</th>\n",
       "      <td>Iceland</td>\n",
       "      <td>7.504</td>\n",
       "      <td>1.480633</td>\n",
       "      <td>1.610574</td>\n",
       "      <td>0.833552</td>\n",
       "      <td>0.627163</td>\n",
       "      <td>0.475540</td>\n",
       "      <td>0.153527</td>\n",
       "    </tr>\n",
       "    <tr>\n",
       "      <th>3</th>\n",
       "      <td>Switzerland</td>\n",
       "      <td>7.494</td>\n",
       "      <td>1.564980</td>\n",
       "      <td>1.516912</td>\n",
       "      <td>0.858131</td>\n",
       "      <td>0.620071</td>\n",
       "      <td>0.290549</td>\n",
       "      <td>0.367007</td>\n",
       "    </tr>\n",
       "    <tr>\n",
       "      <th>4</th>\n",
       "      <td>Finland</td>\n",
       "      <td>7.469</td>\n",
       "      <td>1.443572</td>\n",
       "      <td>1.540247</td>\n",
       "      <td>0.809158</td>\n",
       "      <td>0.617951</td>\n",
       "      <td>0.245483</td>\n",
       "      <td>0.382612</td>\n",
       "    </tr>\n",
       "  </tbody>\n",
       "</table>\n",
       "</div>"
      ],
      "text/plain": [
       "       Country  Happiness Score  GDP per Capita  Social Support  \\\n",
       "0       Norway            7.537        1.616463        1.533524   \n",
       "1      Denmark            7.522        1.482383        1.551122   \n",
       "2      Iceland            7.504        1.480633        1.610574   \n",
       "3  Switzerland            7.494        1.564980        1.516912   \n",
       "4      Finland            7.469        1.443572        1.540247   \n",
       "\n",
       "   Healthy Life Expectancy  Freedom to make life choices  Generosity  \\\n",
       "0                 0.796667                      0.635423    0.362012   \n",
       "1                 0.792566                      0.626007    0.355280   \n",
       "2                 0.833552                      0.627163    0.475540   \n",
       "3                 0.858131                      0.620071    0.290549   \n",
       "4                 0.809158                      0.617951    0.245483   \n",
       "\n",
       "   Perceptions of Corruption  \n",
       "0                   0.315964  \n",
       "1                   0.400770  \n",
       "2                   0.153527  \n",
       "3                   0.367007  \n",
       "4                   0.382612  "
      ]
     },
     "execution_count": 15,
     "metadata": {},
     "output_type": "execute_result"
    }
   ],
   "source": [
    "df_whr17.head()"
   ]
  },
  {
   "cell_type": "code",
   "execution_count": 13,
   "id": "a952856d-2236-4857-b493-bb13b7dd0504",
   "metadata": {},
   "outputs": [],
   "source": [
    "# Dropping Happiness Rank, Whisker high, Whisker low, and Dystopia Residual columns from 2017 World Happiness Report\n",
    "df_whr17.drop(columns = ['Happiness.Rank', 'Whisker.high','Whisker.low', 'Dystopia.Residual'], inplace = True)"
   ]
  },
  {
   "cell_type": "code",
   "execution_count": 14,
   "id": "e88dde12-820c-47d9-ad56-db73ffada966",
   "metadata": {},
   "outputs": [],
   "source": [
    "# Renaming Columns \n",
    "df_whr17 = df_whr17.rename(columns={'Economy..GDP.per.Capita.':'GDP per Capita', 'Family': 'Social Support', 'Health..Life.Expectancy.': 'Healthy Life Expectancy', 'Freedom': 'Freedom to make life choices',\n",
    "                                    'Trust..Government.Corruption.': 'Perceptions of Corruption', 'Happiness.Score': 'Happiness Score'})"
   ]
  },
  {
   "cell_type": "markdown",
   "id": "eb32ac53-b99a-469b-99e5-dbdc7ef365b8",
   "metadata": {},
   "source": [
    "### 2018"
   ]
  },
  {
   "cell_type": "code",
   "execution_count": 19,
   "id": "f7f5e4b6-fe14-4b6c-a676-c0983f9ee431",
   "metadata": {},
   "outputs": [
    {
     "data": {
      "text/html": [
       "<div>\n",
       "<style scoped>\n",
       "    .dataframe tbody tr th:only-of-type {\n",
       "        vertical-align: middle;\n",
       "    }\n",
       "\n",
       "    .dataframe tbody tr th {\n",
       "        vertical-align: top;\n",
       "    }\n",
       "\n",
       "    .dataframe thead th {\n",
       "        text-align: right;\n",
       "    }\n",
       "</style>\n",
       "<table border=\"1\" class=\"dataframe\">\n",
       "  <thead>\n",
       "    <tr style=\"text-align: right;\">\n",
       "      <th></th>\n",
       "      <th>Country</th>\n",
       "      <th>Happiness Score</th>\n",
       "      <th>GDP per Capita</th>\n",
       "      <th>Social Support</th>\n",
       "      <th>Healthy Life Expectancy</th>\n",
       "      <th>Freedom to make life choices</th>\n",
       "      <th>Generosity</th>\n",
       "      <th>Perceptions of Corruption</th>\n",
       "    </tr>\n",
       "  </thead>\n",
       "  <tbody>\n",
       "    <tr>\n",
       "      <th>0</th>\n",
       "      <td>Finland</td>\n",
       "      <td>7.632</td>\n",
       "      <td>1.305</td>\n",
       "      <td>1.592</td>\n",
       "      <td>0.874</td>\n",
       "      <td>0.681</td>\n",
       "      <td>0.202</td>\n",
       "      <td>0.393</td>\n",
       "    </tr>\n",
       "    <tr>\n",
       "      <th>1</th>\n",
       "      <td>Norway</td>\n",
       "      <td>7.594</td>\n",
       "      <td>1.456</td>\n",
       "      <td>1.582</td>\n",
       "      <td>0.861</td>\n",
       "      <td>0.686</td>\n",
       "      <td>0.286</td>\n",
       "      <td>0.340</td>\n",
       "    </tr>\n",
       "    <tr>\n",
       "      <th>2</th>\n",
       "      <td>Denmark</td>\n",
       "      <td>7.555</td>\n",
       "      <td>1.351</td>\n",
       "      <td>1.590</td>\n",
       "      <td>0.868</td>\n",
       "      <td>0.683</td>\n",
       "      <td>0.284</td>\n",
       "      <td>0.408</td>\n",
       "    </tr>\n",
       "    <tr>\n",
       "      <th>3</th>\n",
       "      <td>Iceland</td>\n",
       "      <td>7.495</td>\n",
       "      <td>1.343</td>\n",
       "      <td>1.644</td>\n",
       "      <td>0.914</td>\n",
       "      <td>0.677</td>\n",
       "      <td>0.353</td>\n",
       "      <td>0.138</td>\n",
       "    </tr>\n",
       "    <tr>\n",
       "      <th>4</th>\n",
       "      <td>Switzerland</td>\n",
       "      <td>7.487</td>\n",
       "      <td>1.420</td>\n",
       "      <td>1.549</td>\n",
       "      <td>0.927</td>\n",
       "      <td>0.660</td>\n",
       "      <td>0.256</td>\n",
       "      <td>0.357</td>\n",
       "    </tr>\n",
       "  </tbody>\n",
       "</table>\n",
       "</div>"
      ],
      "text/plain": [
       "       Country  Happiness Score  GDP per Capita  Social Support  \\\n",
       "0      Finland            7.632           1.305           1.592   \n",
       "1       Norway            7.594           1.456           1.582   \n",
       "2      Denmark            7.555           1.351           1.590   \n",
       "3      Iceland            7.495           1.343           1.644   \n",
       "4  Switzerland            7.487           1.420           1.549   \n",
       "\n",
       "   Healthy Life Expectancy  Freedom to make life choices  Generosity  \\\n",
       "0                    0.874                         0.681       0.202   \n",
       "1                    0.861                         0.686       0.286   \n",
       "2                    0.868                         0.683       0.284   \n",
       "3                    0.914                         0.677       0.353   \n",
       "4                    0.927                         0.660       0.256   \n",
       "\n",
       "   Perceptions of Corruption  \n",
       "0                      0.393  \n",
       "1                      0.340  \n",
       "2                      0.408  \n",
       "3                      0.138  \n",
       "4                      0.357  "
      ]
     },
     "execution_count": 19,
     "metadata": {},
     "output_type": "execute_result"
    }
   ],
   "source": [
    "df_whr18.head()"
   ]
  },
  {
   "cell_type": "code",
   "execution_count": 17,
   "id": "2f2ed16a-c3ba-46ef-9028-f4ed140e6950",
   "metadata": {},
   "outputs": [],
   "source": [
    "# Dropping Overall Rank column from 2018 World Happiness Report\n",
    "df_whr18.drop(columns = ['Overall rank'], inplace = True)"
   ]
  },
  {
   "cell_type": "code",
   "execution_count": 18,
   "id": "c323eec4-28b2-4ba6-bf6e-dc38a1bd5065",
   "metadata": {},
   "outputs": [],
   "source": [
    "# Renaming Columns \n",
    "df_whr18 = df_whr18.rename(columns={'GDP per capita':'GDP per Capita', 'Social support': 'Social Support', 'Healthy life expectancy': 'Healthy Life Expectancy', \n",
    "                                    'Perceptions of corruption': 'Perceptions of Corruption', 'Score': 'Happiness Score', 'Country or region': 'Country'})"
   ]
  },
  {
   "cell_type": "markdown",
   "id": "f7c72bfd-ba1b-4e66-a162-e029af52d899",
   "metadata": {},
   "source": [
    "### 2019"
   ]
  },
  {
   "cell_type": "code",
   "execution_count": 23,
   "id": "36ea98ed-babc-4a5a-9d59-32609f0065c9",
   "metadata": {},
   "outputs": [
    {
     "data": {
      "text/html": [
       "<div>\n",
       "<style scoped>\n",
       "    .dataframe tbody tr th:only-of-type {\n",
       "        vertical-align: middle;\n",
       "    }\n",
       "\n",
       "    .dataframe tbody tr th {\n",
       "        vertical-align: top;\n",
       "    }\n",
       "\n",
       "    .dataframe thead th {\n",
       "        text-align: right;\n",
       "    }\n",
       "</style>\n",
       "<table border=\"1\" class=\"dataframe\">\n",
       "  <thead>\n",
       "    <tr style=\"text-align: right;\">\n",
       "      <th></th>\n",
       "      <th>Country</th>\n",
       "      <th>Happiness Score</th>\n",
       "      <th>GDP per Capita</th>\n",
       "      <th>Social Support</th>\n",
       "      <th>Healthy Life Expectancy</th>\n",
       "      <th>Freedom to make life choices</th>\n",
       "      <th>Generosity</th>\n",
       "      <th>Perceptions of Corruption</th>\n",
       "    </tr>\n",
       "  </thead>\n",
       "  <tbody>\n",
       "    <tr>\n",
       "      <th>0</th>\n",
       "      <td>Finland</td>\n",
       "      <td>7.769</td>\n",
       "      <td>1.340</td>\n",
       "      <td>1.587</td>\n",
       "      <td>0.986</td>\n",
       "      <td>0.596</td>\n",
       "      <td>0.153</td>\n",
       "      <td>0.393</td>\n",
       "    </tr>\n",
       "    <tr>\n",
       "      <th>1</th>\n",
       "      <td>Denmark</td>\n",
       "      <td>7.600</td>\n",
       "      <td>1.383</td>\n",
       "      <td>1.573</td>\n",
       "      <td>0.996</td>\n",
       "      <td>0.592</td>\n",
       "      <td>0.252</td>\n",
       "      <td>0.410</td>\n",
       "    </tr>\n",
       "    <tr>\n",
       "      <th>2</th>\n",
       "      <td>Norway</td>\n",
       "      <td>7.554</td>\n",
       "      <td>1.488</td>\n",
       "      <td>1.582</td>\n",
       "      <td>1.028</td>\n",
       "      <td>0.603</td>\n",
       "      <td>0.271</td>\n",
       "      <td>0.341</td>\n",
       "    </tr>\n",
       "    <tr>\n",
       "      <th>3</th>\n",
       "      <td>Iceland</td>\n",
       "      <td>7.494</td>\n",
       "      <td>1.380</td>\n",
       "      <td>1.624</td>\n",
       "      <td>1.026</td>\n",
       "      <td>0.591</td>\n",
       "      <td>0.354</td>\n",
       "      <td>0.118</td>\n",
       "    </tr>\n",
       "    <tr>\n",
       "      <th>4</th>\n",
       "      <td>Netherlands</td>\n",
       "      <td>7.488</td>\n",
       "      <td>1.396</td>\n",
       "      <td>1.522</td>\n",
       "      <td>0.999</td>\n",
       "      <td>0.557</td>\n",
       "      <td>0.322</td>\n",
       "      <td>0.298</td>\n",
       "    </tr>\n",
       "  </tbody>\n",
       "</table>\n",
       "</div>"
      ],
      "text/plain": [
       "       Country  Happiness Score  GDP per Capita  Social Support  \\\n",
       "0      Finland            7.769           1.340           1.587   \n",
       "1      Denmark            7.600           1.383           1.573   \n",
       "2       Norway            7.554           1.488           1.582   \n",
       "3      Iceland            7.494           1.380           1.624   \n",
       "4  Netherlands            7.488           1.396           1.522   \n",
       "\n",
       "   Healthy Life Expectancy  Freedom to make life choices  Generosity  \\\n",
       "0                    0.986                         0.596       0.153   \n",
       "1                    0.996                         0.592       0.252   \n",
       "2                    1.028                         0.603       0.271   \n",
       "3                    1.026                         0.591       0.354   \n",
       "4                    0.999                         0.557       0.322   \n",
       "\n",
       "   Perceptions of Corruption  \n",
       "0                      0.393  \n",
       "1                      0.410  \n",
       "2                      0.341  \n",
       "3                      0.118  \n",
       "4                      0.298  "
      ]
     },
     "execution_count": 23,
     "metadata": {},
     "output_type": "execute_result"
    }
   ],
   "source": [
    "df_whr19.head()"
   ]
  },
  {
   "cell_type": "code",
   "execution_count": 21,
   "id": "00112718-e132-452c-b298-d73391ba67ba",
   "metadata": {},
   "outputs": [],
   "source": [
    "# Dropping Overall Rank column from 2019 World Happiness Report\n",
    "df_whr19.drop(columns = ['Overall rank'], inplace = True)"
   ]
  },
  {
   "cell_type": "code",
   "execution_count": 22,
   "id": "91e5c53b-9817-48a7-8311-cb5a3d60b0f9",
   "metadata": {},
   "outputs": [],
   "source": [
    "# Renaming Columns \n",
    "df_whr19 = df_whr19.rename(columns={'GDP per capita':'GDP per Capita', 'Social support': 'Social Support', 'Healthy life expectancy': 'Healthy Life Expectancy', \n",
    "                                    'Perceptions of corruption': 'Perceptions of Corruption', 'Score': 'Happiness Score', 'Country or region': 'Country'})"
   ]
  },
  {
   "cell_type": "markdown",
   "id": "bb9344bc-d4f4-4388-a398-80a69d1094fc",
   "metadata": {},
   "source": [
    "### 2020"
   ]
  },
  {
   "cell_type": "code",
   "execution_count": 28,
   "id": "53fd946b-1a59-4c49-a115-aad7a27336d9",
   "metadata": {},
   "outputs": [
    {
     "data": {
      "text/html": [
       "<div>\n",
       "<style scoped>\n",
       "    .dataframe tbody tr th:only-of-type {\n",
       "        vertical-align: middle;\n",
       "    }\n",
       "\n",
       "    .dataframe tbody tr th {\n",
       "        vertical-align: top;\n",
       "    }\n",
       "\n",
       "    .dataframe thead th {\n",
       "        text-align: right;\n",
       "    }\n",
       "</style>\n",
       "<table border=\"1\" class=\"dataframe\">\n",
       "  <thead>\n",
       "    <tr style=\"text-align: right;\">\n",
       "      <th></th>\n",
       "      <th>Country</th>\n",
       "      <th>Happiness Score</th>\n",
       "      <th>GDP per Capita</th>\n",
       "      <th>Social Support</th>\n",
       "      <th>Healthy Life Expectancy</th>\n",
       "      <th>Freedom to make life choices</th>\n",
       "      <th>Generosity</th>\n",
       "      <th>Perceptions of Corruption</th>\n",
       "    </tr>\n",
       "  </thead>\n",
       "  <tbody>\n",
       "    <tr>\n",
       "      <th>0</th>\n",
       "      <td>Finland</td>\n",
       "      <td>7.8087</td>\n",
       "      <td>1.285190</td>\n",
       "      <td>1.499526</td>\n",
       "      <td>0.961271</td>\n",
       "      <td>0.662317</td>\n",
       "      <td>0.159670</td>\n",
       "      <td>0.477857</td>\n",
       "    </tr>\n",
       "    <tr>\n",
       "      <th>1</th>\n",
       "      <td>Denmark</td>\n",
       "      <td>7.6456</td>\n",
       "      <td>1.326949</td>\n",
       "      <td>1.503449</td>\n",
       "      <td>0.979333</td>\n",
       "      <td>0.665040</td>\n",
       "      <td>0.242793</td>\n",
       "      <td>0.495260</td>\n",
       "    </tr>\n",
       "    <tr>\n",
       "      <th>2</th>\n",
       "      <td>Switzerland</td>\n",
       "      <td>7.5599</td>\n",
       "      <td>1.390774</td>\n",
       "      <td>1.472403</td>\n",
       "      <td>1.040533</td>\n",
       "      <td>0.628954</td>\n",
       "      <td>0.269056</td>\n",
       "      <td>0.407946</td>\n",
       "    </tr>\n",
       "    <tr>\n",
       "      <th>3</th>\n",
       "      <td>Iceland</td>\n",
       "      <td>7.5045</td>\n",
       "      <td>1.326502</td>\n",
       "      <td>1.547567</td>\n",
       "      <td>1.000843</td>\n",
       "      <td>0.661981</td>\n",
       "      <td>0.362330</td>\n",
       "      <td>0.144541</td>\n",
       "    </tr>\n",
       "    <tr>\n",
       "      <th>4</th>\n",
       "      <td>Norway</td>\n",
       "      <td>7.4880</td>\n",
       "      <td>1.424207</td>\n",
       "      <td>1.495173</td>\n",
       "      <td>1.008072</td>\n",
       "      <td>0.670201</td>\n",
       "      <td>0.287985</td>\n",
       "      <td>0.434101</td>\n",
       "    </tr>\n",
       "  </tbody>\n",
       "</table>\n",
       "</div>"
      ],
      "text/plain": [
       "       Country  Happiness Score  GDP per Capita  Social Support  \\\n",
       "0      Finland           7.8087        1.285190        1.499526   \n",
       "1      Denmark           7.6456        1.326949        1.503449   \n",
       "2  Switzerland           7.5599        1.390774        1.472403   \n",
       "3      Iceland           7.5045        1.326502        1.547567   \n",
       "4       Norway           7.4880        1.424207        1.495173   \n",
       "\n",
       "   Healthy Life Expectancy  Freedom to make life choices  Generosity  \\\n",
       "0                 0.961271                      0.662317    0.159670   \n",
       "1                 0.979333                      0.665040    0.242793   \n",
       "2                 1.040533                      0.628954    0.269056   \n",
       "3                 1.000843                      0.661981    0.362330   \n",
       "4                 1.008072                      0.670201    0.287985   \n",
       "\n",
       "   Perceptions of Corruption  \n",
       "0                   0.477857  \n",
       "1                   0.495260  \n",
       "2                   0.407946  \n",
       "3                   0.144541  \n",
       "4                   0.434101  "
      ]
     },
     "execution_count": 28,
     "metadata": {},
     "output_type": "execute_result"
    }
   ],
   "source": [
    "df_whr20.head()"
   ]
  },
  {
   "cell_type": "code",
   "execution_count": 25,
   "id": "77a02dbd-deb2-4d89-a7e6-b728edb2f82f",
   "metadata": {},
   "outputs": [],
   "source": [
    "# Dropping Regional indicator, standard error, upper/lower whisker from 2020 World Happiness Report\n",
    "df_whr20.drop(columns = ['Regional indicator', 'Standard error of ladder score','upperwhisker','lowerwhisker'], inplace = True)"
   ]
  },
  {
   "cell_type": "code",
   "execution_count": 26,
   "id": "2f13587a-250f-460b-8ee2-985edefec09a",
   "metadata": {},
   "outputs": [],
   "source": [
    "# Keeping the explained by factor columns and removing the similar ones from 2020 World Happiness Report\n",
    "df_whr20.drop(columns = ['Logged GDP per capita', 'Healthy life expectancy', 'Freedom to make life choices', 'Generosity', 'Perceptions of corruption', 'Ladder score in Dystopia', 'Dystopia + residual','Social support'], inplace = True)"
   ]
  },
  {
   "cell_type": "code",
   "execution_count": 27,
   "id": "3fb91f1f-2fab-45ea-ac3f-587a9f485b35",
   "metadata": {},
   "outputs": [],
   "source": [
    "# Renaming Columns\n",
    "df_whr20 = df_whr20.rename(columns={'Explained by: Log GDP per capita':'GDP per Capita','Explained by: Social support': 'Social Support','Explained by: Healthy life expectancy':'Healthy Life Expectancy',\n",
    "                                    'Explained by: Freedom to make life choices': 'Freedom to make life choices', 'Explained by: Generosity': 'Generosity','Explained by: Perceptions of corruption':'Perceptions of Corruption',\n",
    "                                    'Country name': 'Country', 'Ladder score': 'Happiness Score'})"
   ]
  },
  {
   "cell_type": "markdown",
   "id": "82bdc9fb-b217-4a2e-99b1-6005226550df",
   "metadata": {},
   "source": [
    "### 2021"
   ]
  },
  {
   "cell_type": "code",
   "execution_count": 33,
   "id": "18e02890-bcdf-4643-997e-20a164f95a51",
   "metadata": {},
   "outputs": [
    {
     "data": {
      "text/html": [
       "<div>\n",
       "<style scoped>\n",
       "    .dataframe tbody tr th:only-of-type {\n",
       "        vertical-align: middle;\n",
       "    }\n",
       "\n",
       "    .dataframe tbody tr th {\n",
       "        vertical-align: top;\n",
       "    }\n",
       "\n",
       "    .dataframe thead th {\n",
       "        text-align: right;\n",
       "    }\n",
       "</style>\n",
       "<table border=\"1\" class=\"dataframe\">\n",
       "  <thead>\n",
       "    <tr style=\"text-align: right;\">\n",
       "      <th></th>\n",
       "      <th>Country</th>\n",
       "      <th>Happiness Score</th>\n",
       "      <th>GDP per Capita</th>\n",
       "      <th>Social Support</th>\n",
       "      <th>Healthy Life Expectancy</th>\n",
       "      <th>Freedom to make life choices</th>\n",
       "      <th>Generosity</th>\n",
       "      <th>Perceptions of Corruption</th>\n",
       "    </tr>\n",
       "  </thead>\n",
       "  <tbody>\n",
       "    <tr>\n",
       "      <th>0</th>\n",
       "      <td>Finland</td>\n",
       "      <td>7.842</td>\n",
       "      <td>1.446</td>\n",
       "      <td>1.106</td>\n",
       "      <td>0.741</td>\n",
       "      <td>0.691</td>\n",
       "      <td>0.124</td>\n",
       "      <td>0.481</td>\n",
       "    </tr>\n",
       "    <tr>\n",
       "      <th>1</th>\n",
       "      <td>Denmark</td>\n",
       "      <td>7.620</td>\n",
       "      <td>1.502</td>\n",
       "      <td>1.108</td>\n",
       "      <td>0.763</td>\n",
       "      <td>0.686</td>\n",
       "      <td>0.208</td>\n",
       "      <td>0.485</td>\n",
       "    </tr>\n",
       "    <tr>\n",
       "      <th>2</th>\n",
       "      <td>Switzerland</td>\n",
       "      <td>7.571</td>\n",
       "      <td>1.566</td>\n",
       "      <td>1.079</td>\n",
       "      <td>0.816</td>\n",
       "      <td>0.653</td>\n",
       "      <td>0.204</td>\n",
       "      <td>0.413</td>\n",
       "    </tr>\n",
       "    <tr>\n",
       "      <th>3</th>\n",
       "      <td>Iceland</td>\n",
       "      <td>7.554</td>\n",
       "      <td>1.482</td>\n",
       "      <td>1.172</td>\n",
       "      <td>0.772</td>\n",
       "      <td>0.698</td>\n",
       "      <td>0.293</td>\n",
       "      <td>0.170</td>\n",
       "    </tr>\n",
       "    <tr>\n",
       "      <th>4</th>\n",
       "      <td>Netherlands</td>\n",
       "      <td>7.464</td>\n",
       "      <td>1.501</td>\n",
       "      <td>1.079</td>\n",
       "      <td>0.753</td>\n",
       "      <td>0.647</td>\n",
       "      <td>0.302</td>\n",
       "      <td>0.384</td>\n",
       "    </tr>\n",
       "  </tbody>\n",
       "</table>\n",
       "</div>"
      ],
      "text/plain": [
       "       Country  Happiness Score  GDP per Capita  Social Support  \\\n",
       "0      Finland            7.842           1.446           1.106   \n",
       "1      Denmark            7.620           1.502           1.108   \n",
       "2  Switzerland            7.571           1.566           1.079   \n",
       "3      Iceland            7.554           1.482           1.172   \n",
       "4  Netherlands            7.464           1.501           1.079   \n",
       "\n",
       "   Healthy Life Expectancy  Freedom to make life choices  Generosity  \\\n",
       "0                    0.741                         0.691       0.124   \n",
       "1                    0.763                         0.686       0.208   \n",
       "2                    0.816                         0.653       0.204   \n",
       "3                    0.772                         0.698       0.293   \n",
       "4                    0.753                         0.647       0.302   \n",
       "\n",
       "   Perceptions of Corruption  \n",
       "0                      0.481  \n",
       "1                      0.485  \n",
       "2                      0.413  \n",
       "3                      0.170  \n",
       "4                      0.384  "
      ]
     },
     "execution_count": 33,
     "metadata": {},
     "output_type": "execute_result"
    }
   ],
   "source": [
    "df_whr21.head()"
   ]
  },
  {
   "cell_type": "code",
   "execution_count": 30,
   "id": "b5550d3d-fdd3-4882-ad43-267165e45de5",
   "metadata": {},
   "outputs": [],
   "source": [
    "# Dropping Regional indicator, standard error, upper/lower whisker from 2021 World Happiness Report\n",
    "df_whr21.drop(columns = ['Regional indicator', 'Standard error of ladder score','upperwhisker','lowerwhisker'], inplace = True)"
   ]
  },
  {
   "cell_type": "code",
   "execution_count": 31,
   "id": "88928368-65fe-4390-89dd-be972a14862a",
   "metadata": {},
   "outputs": [],
   "source": [
    "# Keeping the explained by factor columns and removing the similar ones from 2021 World Happiness Report\n",
    "df_whr21.drop(columns = ['Logged GDP per capita', 'Healthy life expectancy', 'Freedom to make life choices', 'Generosity', 'Perceptions of corruption', 'Ladder score in Dystopia', 'Dystopia + residual','Social support'], inplace = True)"
   ]
  },
  {
   "cell_type": "code",
   "execution_count": 32,
   "id": "85b5da68-c19a-43ed-b744-84f07d0d4fc5",
   "metadata": {},
   "outputs": [],
   "source": [
    "# Renaming Columns\n",
    "df_whr21 = df_whr21.rename(columns={'Explained by: Log GDP per capita':'GDP per Capita','Explained by: Social support': 'Social Support','Explained by: Healthy life expectancy':'Healthy Life Expectancy',\n",
    "                                    'Explained by: Freedom to make life choices': 'Freedom to make life choices', 'Explained by: Generosity': 'Generosity','Explained by: Perceptions of corruption':'Perceptions of Corruption',\n",
    "                                    'Country name': 'Country', 'Ladder score': 'Happiness Score'})"
   ]
  },
  {
   "cell_type": "markdown",
   "id": "38c17889-8cd4-4ebe-9ef9-8ce22eb6869c",
   "metadata": {},
   "source": [
    "### 2022"
   ]
  },
  {
   "cell_type": "code",
   "execution_count": 41,
   "id": "99c3d3ae-7a7d-4382-8b5e-21388456375a",
   "metadata": {},
   "outputs": [
    {
     "data": {
      "text/html": [
       "<div>\n",
       "<style scoped>\n",
       "    .dataframe tbody tr th:only-of-type {\n",
       "        vertical-align: middle;\n",
       "    }\n",
       "\n",
       "    .dataframe tbody tr th {\n",
       "        vertical-align: top;\n",
       "    }\n",
       "\n",
       "    .dataframe thead th {\n",
       "        text-align: right;\n",
       "    }\n",
       "</style>\n",
       "<table border=\"1\" class=\"dataframe\">\n",
       "  <thead>\n",
       "    <tr style=\"text-align: right;\">\n",
       "      <th></th>\n",
       "      <th>Country</th>\n",
       "      <th>Happiness Score</th>\n",
       "      <th>GDP per Capita</th>\n",
       "      <th>Social Support</th>\n",
       "      <th>Healthy Life Expectancy</th>\n",
       "      <th>Freedom to make life choices</th>\n",
       "      <th>Generosity</th>\n",
       "      <th>Perceptions of Corruption</th>\n",
       "    </tr>\n",
       "  </thead>\n",
       "  <tbody>\n",
       "    <tr>\n",
       "      <th>0</th>\n",
       "      <td>Finland</td>\n",
       "      <td>7.821</td>\n",
       "      <td>1.892</td>\n",
       "      <td>1.258</td>\n",
       "      <td>0.775</td>\n",
       "      <td>0.736</td>\n",
       "      <td>0.109</td>\n",
       "      <td>0.534</td>\n",
       "    </tr>\n",
       "    <tr>\n",
       "      <th>1</th>\n",
       "      <td>Denmark</td>\n",
       "      <td>7.636</td>\n",
       "      <td>1.953</td>\n",
       "      <td>1.243</td>\n",
       "      <td>0.777</td>\n",
       "      <td>0.719</td>\n",
       "      <td>0.188</td>\n",
       "      <td>0.532</td>\n",
       "    </tr>\n",
       "    <tr>\n",
       "      <th>2</th>\n",
       "      <td>Iceland</td>\n",
       "      <td>7.557</td>\n",
       "      <td>1.936</td>\n",
       "      <td>1.320</td>\n",
       "      <td>0.803</td>\n",
       "      <td>0.718</td>\n",
       "      <td>0.270</td>\n",
       "      <td>0.191</td>\n",
       "    </tr>\n",
       "    <tr>\n",
       "      <th>3</th>\n",
       "      <td>Switzerland</td>\n",
       "      <td>7.512</td>\n",
       "      <td>2.026</td>\n",
       "      <td>1.226</td>\n",
       "      <td>0.822</td>\n",
       "      <td>0.677</td>\n",
       "      <td>0.147</td>\n",
       "      <td>0.461</td>\n",
       "    </tr>\n",
       "    <tr>\n",
       "      <th>4</th>\n",
       "      <td>Netherlands</td>\n",
       "      <td>7.415</td>\n",
       "      <td>1.945</td>\n",
       "      <td>1.206</td>\n",
       "      <td>0.787</td>\n",
       "      <td>0.651</td>\n",
       "      <td>0.271</td>\n",
       "      <td>0.419</td>\n",
       "    </tr>\n",
       "  </tbody>\n",
       "</table>\n",
       "</div>"
      ],
      "text/plain": [
       "       Country  Happiness Score  GDP per Capita  Social Support  \\\n",
       "0      Finland            7.821           1.892           1.258   \n",
       "1      Denmark            7.636           1.953           1.243   \n",
       "2      Iceland            7.557           1.936           1.320   \n",
       "3  Switzerland            7.512           2.026           1.226   \n",
       "4  Netherlands            7.415           1.945           1.206   \n",
       "\n",
       "   Healthy Life Expectancy  Freedom to make life choices  Generosity  \\\n",
       "0                    0.775                         0.736       0.109   \n",
       "1                    0.777                         0.719       0.188   \n",
       "2                    0.803                         0.718       0.270   \n",
       "3                    0.822                         0.677       0.147   \n",
       "4                    0.787                         0.651       0.271   \n",
       "\n",
       "   Perceptions of Corruption  \n",
       "0                      0.534  \n",
       "1                      0.532  \n",
       "2                      0.191  \n",
       "3                      0.461  \n",
       "4                      0.419  "
      ]
     },
     "execution_count": 41,
     "metadata": {},
     "output_type": "execute_result"
    }
   ],
   "source": [
    "df_whr22.head()"
   ]
  },
  {
   "cell_type": "code",
   "execution_count": 35,
   "id": "dd258e02-5a16-48c1-8dca-8123641d643d",
   "metadata": {},
   "outputs": [],
   "source": [
    "# Dropping RANK, upper/lower whisker,Dystopia (1.83) + residual from 2022 World Happiness Report\n",
    "df_whr22.drop(columns = ['RANK','Whisker-high','Whisker-low','Dystopia (1.83) + residual'], inplace = True)"
   ]
  },
  {
   "cell_type": "code",
   "execution_count": 36,
   "id": "d050aefc-9192-40dc-900c-b4d8d8e213af",
   "metadata": {},
   "outputs": [],
   "source": [
    "# Renaming Columns\n",
    "df_whr22 = df_whr22.rename(columns={'Explained by: GDP per capita':'GDP per Capita','Explained by: Social support': 'Social Support','Explained by: Healthy life expectancy':'Healthy Life Expectancy',\n",
    "                                    'Explained by: Freedom to make life choices': 'Freedom to make life choices', 'Explained by: Generosity': 'Generosity','Explained by: Perceptions of corruption':'Perceptions of Corruption',\n",
    "                                    'Happiness score':'Happiness Score'})"
   ]
  },
  {
   "cell_type": "code",
   "execution_count": 37,
   "id": "4e38cc63-ea39-4a04-8cd7-72662b5faaa7",
   "metadata": {},
   "outputs": [],
   "source": [
    "#Changing commas to periods in dataframe\n",
    "df_whr22 = df_whr22.replace({',': '.'}, regex=True)"
   ]
  },
  {
   "cell_type": "code",
   "execution_count": 40,
   "id": "beb82bf2-3e6c-438b-a792-d11378284d0e",
   "metadata": {},
   "outputs": [
    {
     "name": "stdout",
     "output_type": "stream",
     "text": [
      "Country                          object\n",
      "Happiness Score                 float64\n",
      "GDP per Capita                  float64\n",
      "Social Support                  float64\n",
      "Healthy Life Expectancy         float64\n",
      "Freedom to make life choices    float64\n",
      "Generosity                      float64\n",
      "Perceptions of Corruption       float64\n",
      "dtype: object\n"
     ]
    }
   ],
   "source": [
    "print(df_whr22.dtypes)"
   ]
  },
  {
   "cell_type": "code",
   "execution_count": 39,
   "id": "45924250-448f-49b2-8a6b-1b440d6076e5",
   "metadata": {},
   "outputs": [],
   "source": [
    "# Converting columns to numeric\n",
    "cols = df_whr22.columns.drop('Country')\n",
    "df_whr22[cols] = df_whr22[cols].apply(pd.to_numeric)"
   ]
  },
  {
   "cell_type": "markdown",
   "id": "62b9fcbd-93bd-4130-9344-f4e64c7be838",
   "metadata": {},
   "source": [
    "## Data Quality Checks"
   ]
  },
  {
   "cell_type": "markdown",
   "id": "493114a7-f3cf-40fb-bb81-162ee3354de7",
   "metadata": {
    "jp-MarkdownHeadingCollapsed": true
   },
   "source": [
    "### Mixed Type Data"
   ]
  },
  {
   "cell_type": "code",
   "execution_count": 84,
   "id": "e1110d81-8c27-4abd-82ee-66ad29002978",
   "metadata": {},
   "outputs": [
    {
     "name": "stdout",
     "output_type": "stream",
     "text": [
      "Country  consistent\n",
      "Happiness Score  consistent\n",
      "GDP per Capita  consistent\n",
      "Social Support  consistent\n",
      "Healthy Life Expectancy  consistent\n",
      "Freedom to make life choices  consistent\n",
      "Perceptions of Corruption  consistent\n",
      "Generosity  consistent\n"
     ]
    },
    {
     "name": "stderr",
     "output_type": "stream",
     "text": [
      "C:\\Users\\Rajit\\AppData\\Local\\Temp\\ipykernel_14512\\1610896662.py:3: FutureWarning: DataFrame.applymap has been deprecated. Use DataFrame.map instead.\n",
      "  weird = (df_whr15[[col]].applymap(type) != df_whr15[[col]].iloc[0].apply(type)).any(axis = 1)\n",
      "C:\\Users\\Rajit\\AppData\\Local\\Temp\\ipykernel_14512\\1610896662.py:3: FutureWarning: DataFrame.applymap has been deprecated. Use DataFrame.map instead.\n",
      "  weird = (df_whr15[[col]].applymap(type) != df_whr15[[col]].iloc[0].apply(type)).any(axis = 1)\n",
      "C:\\Users\\Rajit\\AppData\\Local\\Temp\\ipykernel_14512\\1610896662.py:3: FutureWarning: DataFrame.applymap has been deprecated. Use DataFrame.map instead.\n",
      "  weird = (df_whr15[[col]].applymap(type) != df_whr15[[col]].iloc[0].apply(type)).any(axis = 1)\n",
      "C:\\Users\\Rajit\\AppData\\Local\\Temp\\ipykernel_14512\\1610896662.py:3: FutureWarning: DataFrame.applymap has been deprecated. Use DataFrame.map instead.\n",
      "  weird = (df_whr15[[col]].applymap(type) != df_whr15[[col]].iloc[0].apply(type)).any(axis = 1)\n",
      "C:\\Users\\Rajit\\AppData\\Local\\Temp\\ipykernel_14512\\1610896662.py:3: FutureWarning: DataFrame.applymap has been deprecated. Use DataFrame.map instead.\n",
      "  weird = (df_whr15[[col]].applymap(type) != df_whr15[[col]].iloc[0].apply(type)).any(axis = 1)\n",
      "C:\\Users\\Rajit\\AppData\\Local\\Temp\\ipykernel_14512\\1610896662.py:3: FutureWarning: DataFrame.applymap has been deprecated. Use DataFrame.map instead.\n",
      "  weird = (df_whr15[[col]].applymap(type) != df_whr15[[col]].iloc[0].apply(type)).any(axis = 1)\n",
      "C:\\Users\\Rajit\\AppData\\Local\\Temp\\ipykernel_14512\\1610896662.py:3: FutureWarning: DataFrame.applymap has been deprecated. Use DataFrame.map instead.\n",
      "  weird = (df_whr15[[col]].applymap(type) != df_whr15[[col]].iloc[0].apply(type)).any(axis = 1)\n",
      "C:\\Users\\Rajit\\AppData\\Local\\Temp\\ipykernel_14512\\1610896662.py:3: FutureWarning: DataFrame.applymap has been deprecated. Use DataFrame.map instead.\n",
      "  weird = (df_whr15[[col]].applymap(type) != df_whr15[[col]].iloc[0].apply(type)).any(axis = 1)\n"
     ]
    }
   ],
   "source": [
    "# Checking for Mixed Data for World Happiness Report 2015\n",
    "for col in df_whr15.columns.tolist():\n",
    "  weird = (df_whr15[[col]].applymap(type) != df_whr15[[col]].iloc[0].apply(type)).any(axis = 1)\n",
    "  if len (df_whr15[weird]) > 0:\n",
    "    print (col, ' mixed')\n",
    "  else: print (col, ' consistent')"
   ]
  },
  {
   "cell_type": "code",
   "execution_count": 85,
   "id": "c4c9d878-dd89-4f2e-87c4-f9c702001334",
   "metadata": {},
   "outputs": [
    {
     "name": "stdout",
     "output_type": "stream",
     "text": [
      "Country  consistent\n",
      "Happiness Score  consistent\n",
      "GDP per Capita  consistent\n",
      "Social Support  consistent\n",
      "Healthy Life Expectancy  consistent\n",
      "Freedom to make life choices  consistent\n",
      "Perceptions of Corruption  consistent\n",
      "Generosity  consistent\n"
     ]
    },
    {
     "name": "stderr",
     "output_type": "stream",
     "text": [
      "C:\\Users\\Rajit\\AppData\\Local\\Temp\\ipykernel_14512\\385379565.py:3: FutureWarning: DataFrame.applymap has been deprecated. Use DataFrame.map instead.\n",
      "  weird = (df_whr16[[col]].applymap(type) != df_whr16[[col]].iloc[0].apply(type)).any(axis = 1)\n",
      "C:\\Users\\Rajit\\AppData\\Local\\Temp\\ipykernel_14512\\385379565.py:3: FutureWarning: DataFrame.applymap has been deprecated. Use DataFrame.map instead.\n",
      "  weird = (df_whr16[[col]].applymap(type) != df_whr16[[col]].iloc[0].apply(type)).any(axis = 1)\n",
      "C:\\Users\\Rajit\\AppData\\Local\\Temp\\ipykernel_14512\\385379565.py:3: FutureWarning: DataFrame.applymap has been deprecated. Use DataFrame.map instead.\n",
      "  weird = (df_whr16[[col]].applymap(type) != df_whr16[[col]].iloc[0].apply(type)).any(axis = 1)\n",
      "C:\\Users\\Rajit\\AppData\\Local\\Temp\\ipykernel_14512\\385379565.py:3: FutureWarning: DataFrame.applymap has been deprecated. Use DataFrame.map instead.\n",
      "  weird = (df_whr16[[col]].applymap(type) != df_whr16[[col]].iloc[0].apply(type)).any(axis = 1)\n",
      "C:\\Users\\Rajit\\AppData\\Local\\Temp\\ipykernel_14512\\385379565.py:3: FutureWarning: DataFrame.applymap has been deprecated. Use DataFrame.map instead.\n",
      "  weird = (df_whr16[[col]].applymap(type) != df_whr16[[col]].iloc[0].apply(type)).any(axis = 1)\n",
      "C:\\Users\\Rajit\\AppData\\Local\\Temp\\ipykernel_14512\\385379565.py:3: FutureWarning: DataFrame.applymap has been deprecated. Use DataFrame.map instead.\n",
      "  weird = (df_whr16[[col]].applymap(type) != df_whr16[[col]].iloc[0].apply(type)).any(axis = 1)\n",
      "C:\\Users\\Rajit\\AppData\\Local\\Temp\\ipykernel_14512\\385379565.py:3: FutureWarning: DataFrame.applymap has been deprecated. Use DataFrame.map instead.\n",
      "  weird = (df_whr16[[col]].applymap(type) != df_whr16[[col]].iloc[0].apply(type)).any(axis = 1)\n",
      "C:\\Users\\Rajit\\AppData\\Local\\Temp\\ipykernel_14512\\385379565.py:3: FutureWarning: DataFrame.applymap has been deprecated. Use DataFrame.map instead.\n",
      "  weird = (df_whr16[[col]].applymap(type) != df_whr16[[col]].iloc[0].apply(type)).any(axis = 1)\n"
     ]
    }
   ],
   "source": [
    "# Checking for Mixed Data for World Happiness Report 2016\n",
    "for col in df_whr16.columns.tolist():\n",
    "  weird = (df_whr16[[col]].applymap(type) != df_whr16[[col]].iloc[0].apply(type)).any(axis = 1)\n",
    "  if len (df_whr16[weird]) > 0:\n",
    "    print (col, ' mixed')\n",
    "  else: print (col, ' consistent')"
   ]
  },
  {
   "cell_type": "code",
   "execution_count": 86,
   "id": "633505de-384d-49d7-8c67-71ffc84f9566",
   "metadata": {},
   "outputs": [
    {
     "name": "stdout",
     "output_type": "stream",
     "text": [
      "Country  consistent\n",
      "Happiness Score  consistent\n",
      "GDP per Capita  consistent\n",
      "Social Support  consistent\n",
      "Healthy Life Expectancy  consistent\n",
      "Freedom to make life choices  consistent\n",
      "Generosity  consistent\n",
      "Perceptions of Corruption  consistent\n"
     ]
    },
    {
     "name": "stderr",
     "output_type": "stream",
     "text": [
      "C:\\Users\\Rajit\\AppData\\Local\\Temp\\ipykernel_14512\\3239111184.py:3: FutureWarning: DataFrame.applymap has been deprecated. Use DataFrame.map instead.\n",
      "  weird = (df_whr17[[col]].applymap(type) != df_whr17[[col]].iloc[0].apply(type)).any(axis = 1)\n",
      "C:\\Users\\Rajit\\AppData\\Local\\Temp\\ipykernel_14512\\3239111184.py:3: FutureWarning: DataFrame.applymap has been deprecated. Use DataFrame.map instead.\n",
      "  weird = (df_whr17[[col]].applymap(type) != df_whr17[[col]].iloc[0].apply(type)).any(axis = 1)\n",
      "C:\\Users\\Rajit\\AppData\\Local\\Temp\\ipykernel_14512\\3239111184.py:3: FutureWarning: DataFrame.applymap has been deprecated. Use DataFrame.map instead.\n",
      "  weird = (df_whr17[[col]].applymap(type) != df_whr17[[col]].iloc[0].apply(type)).any(axis = 1)\n",
      "C:\\Users\\Rajit\\AppData\\Local\\Temp\\ipykernel_14512\\3239111184.py:3: FutureWarning: DataFrame.applymap has been deprecated. Use DataFrame.map instead.\n",
      "  weird = (df_whr17[[col]].applymap(type) != df_whr17[[col]].iloc[0].apply(type)).any(axis = 1)\n",
      "C:\\Users\\Rajit\\AppData\\Local\\Temp\\ipykernel_14512\\3239111184.py:3: FutureWarning: DataFrame.applymap has been deprecated. Use DataFrame.map instead.\n",
      "  weird = (df_whr17[[col]].applymap(type) != df_whr17[[col]].iloc[0].apply(type)).any(axis = 1)\n",
      "C:\\Users\\Rajit\\AppData\\Local\\Temp\\ipykernel_14512\\3239111184.py:3: FutureWarning: DataFrame.applymap has been deprecated. Use DataFrame.map instead.\n",
      "  weird = (df_whr17[[col]].applymap(type) != df_whr17[[col]].iloc[0].apply(type)).any(axis = 1)\n",
      "C:\\Users\\Rajit\\AppData\\Local\\Temp\\ipykernel_14512\\3239111184.py:3: FutureWarning: DataFrame.applymap has been deprecated. Use DataFrame.map instead.\n",
      "  weird = (df_whr17[[col]].applymap(type) != df_whr17[[col]].iloc[0].apply(type)).any(axis = 1)\n",
      "C:\\Users\\Rajit\\AppData\\Local\\Temp\\ipykernel_14512\\3239111184.py:3: FutureWarning: DataFrame.applymap has been deprecated. Use DataFrame.map instead.\n",
      "  weird = (df_whr17[[col]].applymap(type) != df_whr17[[col]].iloc[0].apply(type)).any(axis = 1)\n"
     ]
    }
   ],
   "source": [
    "# Checking for Mixed Data for World Happiness Report 2017\n",
    "for col in df_whr17.columns.tolist():\n",
    "  weird = (df_whr17[[col]].applymap(type) != df_whr17[[col]].iloc[0].apply(type)).any(axis = 1)\n",
    "  if len (df_whr17[weird]) > 0:\n",
    "    print (col, ' mixed')\n",
    "  else: print (col, ' consistent')"
   ]
  },
  {
   "cell_type": "code",
   "execution_count": 87,
   "id": "a2b0dc3f-dfb6-41a8-8eb3-23529bd846dd",
   "metadata": {},
   "outputs": [
    {
     "name": "stdout",
     "output_type": "stream",
     "text": [
      "Country  consistent\n",
      "Happiness Score  consistent\n",
      "GDP per Capita  consistent\n",
      "Social Support  consistent\n",
      "Healthy life expectancy  consistent\n",
      "Freedom to make life choices  consistent\n",
      "Generosity  consistent\n",
      "Perceptions of Corruption  consistent\n"
     ]
    },
    {
     "name": "stderr",
     "output_type": "stream",
     "text": [
      "C:\\Users\\Rajit\\AppData\\Local\\Temp\\ipykernel_14512\\1992016974.py:3: FutureWarning: DataFrame.applymap has been deprecated. Use DataFrame.map instead.\n",
      "  weird = (df_whr18[[col]].applymap(type) != df_whr18[[col]].iloc[0].apply(type)).any(axis = 1)\n",
      "C:\\Users\\Rajit\\AppData\\Local\\Temp\\ipykernel_14512\\1992016974.py:3: FutureWarning: DataFrame.applymap has been deprecated. Use DataFrame.map instead.\n",
      "  weird = (df_whr18[[col]].applymap(type) != df_whr18[[col]].iloc[0].apply(type)).any(axis = 1)\n",
      "C:\\Users\\Rajit\\AppData\\Local\\Temp\\ipykernel_14512\\1992016974.py:3: FutureWarning: DataFrame.applymap has been deprecated. Use DataFrame.map instead.\n",
      "  weird = (df_whr18[[col]].applymap(type) != df_whr18[[col]].iloc[0].apply(type)).any(axis = 1)\n",
      "C:\\Users\\Rajit\\AppData\\Local\\Temp\\ipykernel_14512\\1992016974.py:3: FutureWarning: DataFrame.applymap has been deprecated. Use DataFrame.map instead.\n",
      "  weird = (df_whr18[[col]].applymap(type) != df_whr18[[col]].iloc[0].apply(type)).any(axis = 1)\n",
      "C:\\Users\\Rajit\\AppData\\Local\\Temp\\ipykernel_14512\\1992016974.py:3: FutureWarning: DataFrame.applymap has been deprecated. Use DataFrame.map instead.\n",
      "  weird = (df_whr18[[col]].applymap(type) != df_whr18[[col]].iloc[0].apply(type)).any(axis = 1)\n",
      "C:\\Users\\Rajit\\AppData\\Local\\Temp\\ipykernel_14512\\1992016974.py:3: FutureWarning: DataFrame.applymap has been deprecated. Use DataFrame.map instead.\n",
      "  weird = (df_whr18[[col]].applymap(type) != df_whr18[[col]].iloc[0].apply(type)).any(axis = 1)\n",
      "C:\\Users\\Rajit\\AppData\\Local\\Temp\\ipykernel_14512\\1992016974.py:3: FutureWarning: DataFrame.applymap has been deprecated. Use DataFrame.map instead.\n",
      "  weird = (df_whr18[[col]].applymap(type) != df_whr18[[col]].iloc[0].apply(type)).any(axis = 1)\n",
      "C:\\Users\\Rajit\\AppData\\Local\\Temp\\ipykernel_14512\\1992016974.py:3: FutureWarning: DataFrame.applymap has been deprecated. Use DataFrame.map instead.\n",
      "  weird = (df_whr18[[col]].applymap(type) != df_whr18[[col]].iloc[0].apply(type)).any(axis = 1)\n"
     ]
    }
   ],
   "source": [
    "# Checking for Mixed Data for World Happiness Report 2018\n",
    "for col in df_whr18.columns.tolist():\n",
    "  weird = (df_whr18[[col]].applymap(type) != df_whr18[[col]].iloc[0].apply(type)).any(axis = 1)\n",
    "  if len (df_whr18[weird]) > 0:\n",
    "    print (col, ' mixed')\n",
    "  else: print (col, ' consistent')"
   ]
  },
  {
   "cell_type": "code",
   "execution_count": 88,
   "id": "a1225bd0-e69f-4fcb-b11b-630439b05654",
   "metadata": {},
   "outputs": [
    {
     "name": "stdout",
     "output_type": "stream",
     "text": [
      "Country  consistent\n",
      "Happiness Score  consistent\n",
      "GDP per Capita  consistent\n",
      "Social Support  consistent\n",
      "Healthy life expectancy  consistent\n",
      "Freedom to make life choices  consistent\n",
      "Generosity  consistent\n",
      "Perceptions of Corruption  consistent\n"
     ]
    },
    {
     "name": "stderr",
     "output_type": "stream",
     "text": [
      "C:\\Users\\Rajit\\AppData\\Local\\Temp\\ipykernel_14512\\925858037.py:3: FutureWarning: DataFrame.applymap has been deprecated. Use DataFrame.map instead.\n",
      "  weird = (df_whr19[[col]].applymap(type) != df_whr19[[col]].iloc[0].apply(type)).any(axis = 1)\n",
      "C:\\Users\\Rajit\\AppData\\Local\\Temp\\ipykernel_14512\\925858037.py:3: FutureWarning: DataFrame.applymap has been deprecated. Use DataFrame.map instead.\n",
      "  weird = (df_whr19[[col]].applymap(type) != df_whr19[[col]].iloc[0].apply(type)).any(axis = 1)\n",
      "C:\\Users\\Rajit\\AppData\\Local\\Temp\\ipykernel_14512\\925858037.py:3: FutureWarning: DataFrame.applymap has been deprecated. Use DataFrame.map instead.\n",
      "  weird = (df_whr19[[col]].applymap(type) != df_whr19[[col]].iloc[0].apply(type)).any(axis = 1)\n",
      "C:\\Users\\Rajit\\AppData\\Local\\Temp\\ipykernel_14512\\925858037.py:3: FutureWarning: DataFrame.applymap has been deprecated. Use DataFrame.map instead.\n",
      "  weird = (df_whr19[[col]].applymap(type) != df_whr19[[col]].iloc[0].apply(type)).any(axis = 1)\n",
      "C:\\Users\\Rajit\\AppData\\Local\\Temp\\ipykernel_14512\\925858037.py:3: FutureWarning: DataFrame.applymap has been deprecated. Use DataFrame.map instead.\n",
      "  weird = (df_whr19[[col]].applymap(type) != df_whr19[[col]].iloc[0].apply(type)).any(axis = 1)\n",
      "C:\\Users\\Rajit\\AppData\\Local\\Temp\\ipykernel_14512\\925858037.py:3: FutureWarning: DataFrame.applymap has been deprecated. Use DataFrame.map instead.\n",
      "  weird = (df_whr19[[col]].applymap(type) != df_whr19[[col]].iloc[0].apply(type)).any(axis = 1)\n",
      "C:\\Users\\Rajit\\AppData\\Local\\Temp\\ipykernel_14512\\925858037.py:3: FutureWarning: DataFrame.applymap has been deprecated. Use DataFrame.map instead.\n",
      "  weird = (df_whr19[[col]].applymap(type) != df_whr19[[col]].iloc[0].apply(type)).any(axis = 1)\n",
      "C:\\Users\\Rajit\\AppData\\Local\\Temp\\ipykernel_14512\\925858037.py:3: FutureWarning: DataFrame.applymap has been deprecated. Use DataFrame.map instead.\n",
      "  weird = (df_whr19[[col]].applymap(type) != df_whr19[[col]].iloc[0].apply(type)).any(axis = 1)\n"
     ]
    }
   ],
   "source": [
    "# Checking for Mixed Data for World Happiness Report 2019\n",
    "for col in df_whr19.columns.tolist():\n",
    "  weird = (df_whr19[[col]].applymap(type) != df_whr19[[col]].iloc[0].apply(type)).any(axis = 1)\n",
    "  if len (df_whr19[weird]) > 0:\n",
    "    print (col, ' mixed')\n",
    "  else: print (col, ' consistent')"
   ]
  },
  {
   "cell_type": "code",
   "execution_count": 89,
   "id": "a4aa3463-efd5-4348-adcd-ebfb06cb608e",
   "metadata": {},
   "outputs": [
    {
     "name": "stdout",
     "output_type": "stream",
     "text": [
      "Country  consistent\n",
      "Happiness Score  consistent\n",
      "GDP per Capita  consistent\n",
      "Social Support  consistent\n",
      "Healthy life expectancy  consistent\n",
      "Freedom to make life choices  consistent\n",
      "Generosity  consistent\n",
      "Perceptions of Corruption  consistent\n"
     ]
    },
    {
     "name": "stderr",
     "output_type": "stream",
     "text": [
      "C:\\Users\\Rajit\\AppData\\Local\\Temp\\ipykernel_14512\\3402492740.py:3: FutureWarning: DataFrame.applymap has been deprecated. Use DataFrame.map instead.\n",
      "  weird = (df_whr20[[col]].applymap(type) != df_whr20[[col]].iloc[0].apply(type)).any(axis = 1)\n",
      "C:\\Users\\Rajit\\AppData\\Local\\Temp\\ipykernel_14512\\3402492740.py:3: FutureWarning: DataFrame.applymap has been deprecated. Use DataFrame.map instead.\n",
      "  weird = (df_whr20[[col]].applymap(type) != df_whr20[[col]].iloc[0].apply(type)).any(axis = 1)\n",
      "C:\\Users\\Rajit\\AppData\\Local\\Temp\\ipykernel_14512\\3402492740.py:3: FutureWarning: DataFrame.applymap has been deprecated. Use DataFrame.map instead.\n",
      "  weird = (df_whr20[[col]].applymap(type) != df_whr20[[col]].iloc[0].apply(type)).any(axis = 1)\n",
      "C:\\Users\\Rajit\\AppData\\Local\\Temp\\ipykernel_14512\\3402492740.py:3: FutureWarning: DataFrame.applymap has been deprecated. Use DataFrame.map instead.\n",
      "  weird = (df_whr20[[col]].applymap(type) != df_whr20[[col]].iloc[0].apply(type)).any(axis = 1)\n",
      "C:\\Users\\Rajit\\AppData\\Local\\Temp\\ipykernel_14512\\3402492740.py:3: FutureWarning: DataFrame.applymap has been deprecated. Use DataFrame.map instead.\n",
      "  weird = (df_whr20[[col]].applymap(type) != df_whr20[[col]].iloc[0].apply(type)).any(axis = 1)\n",
      "C:\\Users\\Rajit\\AppData\\Local\\Temp\\ipykernel_14512\\3402492740.py:3: FutureWarning: DataFrame.applymap has been deprecated. Use DataFrame.map instead.\n",
      "  weird = (df_whr20[[col]].applymap(type) != df_whr20[[col]].iloc[0].apply(type)).any(axis = 1)\n",
      "C:\\Users\\Rajit\\AppData\\Local\\Temp\\ipykernel_14512\\3402492740.py:3: FutureWarning: DataFrame.applymap has been deprecated. Use DataFrame.map instead.\n",
      "  weird = (df_whr20[[col]].applymap(type) != df_whr20[[col]].iloc[0].apply(type)).any(axis = 1)\n",
      "C:\\Users\\Rajit\\AppData\\Local\\Temp\\ipykernel_14512\\3402492740.py:3: FutureWarning: DataFrame.applymap has been deprecated. Use DataFrame.map instead.\n",
      "  weird = (df_whr20[[col]].applymap(type) != df_whr20[[col]].iloc[0].apply(type)).any(axis = 1)\n"
     ]
    }
   ],
   "source": [
    "# Checking for Mixed Data for World Happiness Report 2020\n",
    "for col in df_whr20.columns.tolist():\n",
    "  weird = (df_whr20[[col]].applymap(type) != df_whr20[[col]].iloc[0].apply(type)).any(axis = 1)\n",
    "  if len (df_whr20[weird]) > 0:\n",
    "    print (col, ' mixed')\n",
    "  else: print (col, ' consistent')"
   ]
  },
  {
   "cell_type": "code",
   "execution_count": 90,
   "id": "80eb11bc-d004-400d-9512-41390cb0d1fb",
   "metadata": {},
   "outputs": [
    {
     "name": "stdout",
     "output_type": "stream",
     "text": [
      "Country  consistent\n",
      "Happiness Score  consistent\n",
      "GDP per Capita  consistent\n",
      "Social Support  consistent\n",
      "Healthy life expectancy  consistent\n",
      "Freedom to make life choices  consistent\n",
      "Generosity  consistent\n",
      "Perceptions of Corruption  consistent\n"
     ]
    },
    {
     "name": "stderr",
     "output_type": "stream",
     "text": [
      "C:\\Users\\Rajit\\AppData\\Local\\Temp\\ipykernel_14512\\3780711563.py:3: FutureWarning: DataFrame.applymap has been deprecated. Use DataFrame.map instead.\n",
      "  weird = (df_whr21[[col]].applymap(type) != df_whr21[[col]].iloc[0].apply(type)).any(axis = 1)\n",
      "C:\\Users\\Rajit\\AppData\\Local\\Temp\\ipykernel_14512\\3780711563.py:3: FutureWarning: DataFrame.applymap has been deprecated. Use DataFrame.map instead.\n",
      "  weird = (df_whr21[[col]].applymap(type) != df_whr21[[col]].iloc[0].apply(type)).any(axis = 1)\n",
      "C:\\Users\\Rajit\\AppData\\Local\\Temp\\ipykernel_14512\\3780711563.py:3: FutureWarning: DataFrame.applymap has been deprecated. Use DataFrame.map instead.\n",
      "  weird = (df_whr21[[col]].applymap(type) != df_whr21[[col]].iloc[0].apply(type)).any(axis = 1)\n",
      "C:\\Users\\Rajit\\AppData\\Local\\Temp\\ipykernel_14512\\3780711563.py:3: FutureWarning: DataFrame.applymap has been deprecated. Use DataFrame.map instead.\n",
      "  weird = (df_whr21[[col]].applymap(type) != df_whr21[[col]].iloc[0].apply(type)).any(axis = 1)\n",
      "C:\\Users\\Rajit\\AppData\\Local\\Temp\\ipykernel_14512\\3780711563.py:3: FutureWarning: DataFrame.applymap has been deprecated. Use DataFrame.map instead.\n",
      "  weird = (df_whr21[[col]].applymap(type) != df_whr21[[col]].iloc[0].apply(type)).any(axis = 1)\n",
      "C:\\Users\\Rajit\\AppData\\Local\\Temp\\ipykernel_14512\\3780711563.py:3: FutureWarning: DataFrame.applymap has been deprecated. Use DataFrame.map instead.\n",
      "  weird = (df_whr21[[col]].applymap(type) != df_whr21[[col]].iloc[0].apply(type)).any(axis = 1)\n",
      "C:\\Users\\Rajit\\AppData\\Local\\Temp\\ipykernel_14512\\3780711563.py:3: FutureWarning: DataFrame.applymap has been deprecated. Use DataFrame.map instead.\n",
      "  weird = (df_whr21[[col]].applymap(type) != df_whr21[[col]].iloc[0].apply(type)).any(axis = 1)\n",
      "C:\\Users\\Rajit\\AppData\\Local\\Temp\\ipykernel_14512\\3780711563.py:3: FutureWarning: DataFrame.applymap has been deprecated. Use DataFrame.map instead.\n",
      "  weird = (df_whr21[[col]].applymap(type) != df_whr21[[col]].iloc[0].apply(type)).any(axis = 1)\n"
     ]
    }
   ],
   "source": [
    "# Checking for Mixed Data for World Happiness Report 2021\n",
    "for col in df_whr21.columns.tolist():\n",
    "  weird = (df_whr21[[col]].applymap(type) != df_whr21[[col]].iloc[0].apply(type)).any(axis = 1)\n",
    "  if len (df_whr21[weird]) > 0:\n",
    "    print (col, ' mixed')\n",
    "  else: print (col, ' consistent')"
   ]
  },
  {
   "cell_type": "code",
   "execution_count": 91,
   "id": "65c686c2-66b4-4dc9-861c-8a034287073c",
   "metadata": {},
   "outputs": [
    {
     "name": "stdout",
     "output_type": "stream",
     "text": [
      "Country  consistent\n",
      "Happiness score  consistent\n",
      "GDP per Capita  consistent\n",
      "Social Support  consistent\n",
      "Healthy life expectancy  consistent\n",
      "Freedom to make life choices  consistent\n",
      "Generosity  consistent\n",
      "Perceptions of Corruption  consistent\n"
     ]
    },
    {
     "name": "stderr",
     "output_type": "stream",
     "text": [
      "C:\\Users\\Rajit\\AppData\\Local\\Temp\\ipykernel_14512\\3119272341.py:3: FutureWarning: DataFrame.applymap has been deprecated. Use DataFrame.map instead.\n",
      "  weird = (df_whr22[[col]].applymap(type) != df_whr22[[col]].iloc[0].apply(type)).any(axis = 1)\n",
      "C:\\Users\\Rajit\\AppData\\Local\\Temp\\ipykernel_14512\\3119272341.py:3: FutureWarning: DataFrame.applymap has been deprecated. Use DataFrame.map instead.\n",
      "  weird = (df_whr22[[col]].applymap(type) != df_whr22[[col]].iloc[0].apply(type)).any(axis = 1)\n",
      "C:\\Users\\Rajit\\AppData\\Local\\Temp\\ipykernel_14512\\3119272341.py:3: FutureWarning: DataFrame.applymap has been deprecated. Use DataFrame.map instead.\n",
      "  weird = (df_whr22[[col]].applymap(type) != df_whr22[[col]].iloc[0].apply(type)).any(axis = 1)\n",
      "C:\\Users\\Rajit\\AppData\\Local\\Temp\\ipykernel_14512\\3119272341.py:3: FutureWarning: DataFrame.applymap has been deprecated. Use DataFrame.map instead.\n",
      "  weird = (df_whr22[[col]].applymap(type) != df_whr22[[col]].iloc[0].apply(type)).any(axis = 1)\n",
      "C:\\Users\\Rajit\\AppData\\Local\\Temp\\ipykernel_14512\\3119272341.py:3: FutureWarning: DataFrame.applymap has been deprecated. Use DataFrame.map instead.\n",
      "  weird = (df_whr22[[col]].applymap(type) != df_whr22[[col]].iloc[0].apply(type)).any(axis = 1)\n",
      "C:\\Users\\Rajit\\AppData\\Local\\Temp\\ipykernel_14512\\3119272341.py:3: FutureWarning: DataFrame.applymap has been deprecated. Use DataFrame.map instead.\n",
      "  weird = (df_whr22[[col]].applymap(type) != df_whr22[[col]].iloc[0].apply(type)).any(axis = 1)\n",
      "C:\\Users\\Rajit\\AppData\\Local\\Temp\\ipykernel_14512\\3119272341.py:3: FutureWarning: DataFrame.applymap has been deprecated. Use DataFrame.map instead.\n",
      "  weird = (df_whr22[[col]].applymap(type) != df_whr22[[col]].iloc[0].apply(type)).any(axis = 1)\n",
      "C:\\Users\\Rajit\\AppData\\Local\\Temp\\ipykernel_14512\\3119272341.py:3: FutureWarning: DataFrame.applymap has been deprecated. Use DataFrame.map instead.\n",
      "  weird = (df_whr22[[col]].applymap(type) != df_whr22[[col]].iloc[0].apply(type)).any(axis = 1)\n"
     ]
    }
   ],
   "source": [
    "# Checking for Mixed Data for World Happiness Report 2022\n",
    "for col in df_whr22.columns.tolist():\n",
    "  weird = (df_whr22[[col]].applymap(type) != df_whr22[[col]].iloc[0].apply(type)).any(axis = 1)\n",
    "  if len (df_whr22[weird]) > 0:\n",
    "    print (col, ' mixed')\n",
    "  else: print (col, ' consistent')"
   ]
  },
  {
   "cell_type": "markdown",
   "id": "ba52b6e9-39b2-44d2-8df8-1b89a1d49c1a",
   "metadata": {},
   "source": [
    "No Mixed Type Data was found"
   ]
  },
  {
   "cell_type": "markdown",
   "id": "66314903-feb0-46e3-bc59-94eeb8f4e188",
   "metadata": {},
   "source": [
    "### Missing Data"
   ]
  },
  {
   "cell_type": "markdown",
   "id": "9b11d007-3eae-4ac4-bca3-ad90bca8008c",
   "metadata": {},
   "source": [
    "#### Checking for Missing Values"
   ]
  },
  {
   "cell_type": "code",
   "execution_count": 93,
   "id": "0895aa2b-5f29-469c-96e8-5124bbcb210a",
   "metadata": {},
   "outputs": [
    {
     "data": {
      "text/plain": [
       "Country                         0\n",
       "Happiness Score                 0\n",
       "GDP per Capita                  0\n",
       "Social Support                  0\n",
       "Healthy Life Expectancy         0\n",
       "Freedom to make life choices    0\n",
       "Perceptions of Corruption       0\n",
       "Generosity                      0\n",
       "dtype: int64"
      ]
     },
     "execution_count": 93,
     "metadata": {},
     "output_type": "execute_result"
    }
   ],
   "source": [
    "# Check for Missing Values for World Happiness Report 2015\n",
    "df_whr15.isnull().sum()"
   ]
  },
  {
   "cell_type": "code",
   "execution_count": 94,
   "id": "6654a375-8aba-4a57-a370-c78ee66265a9",
   "metadata": {},
   "outputs": [
    {
     "data": {
      "text/plain": [
       "Country                         0\n",
       "Happiness Score                 0\n",
       "GDP per Capita                  0\n",
       "Social Support                  0\n",
       "Healthy Life Expectancy         0\n",
       "Freedom to make life choices    0\n",
       "Perceptions of Corruption       0\n",
       "Generosity                      0\n",
       "dtype: int64"
      ]
     },
     "execution_count": 94,
     "metadata": {},
     "output_type": "execute_result"
    }
   ],
   "source": [
    "# Check for Missing Values for World Happiness Report 2016\n",
    "df_whr16.isnull().sum()"
   ]
  },
  {
   "cell_type": "code",
   "execution_count": 95,
   "id": "91c3c613-4ee1-44df-b806-0b5f7b8134d1",
   "metadata": {},
   "outputs": [
    {
     "data": {
      "text/plain": [
       "Country                         0\n",
       "Happiness Score                 0\n",
       "GDP per Capita                  0\n",
       "Social Support                  0\n",
       "Healthy Life Expectancy         0\n",
       "Freedom to make life choices    0\n",
       "Generosity                      0\n",
       "Perceptions of Corruption       0\n",
       "dtype: int64"
      ]
     },
     "execution_count": 95,
     "metadata": {},
     "output_type": "execute_result"
    }
   ],
   "source": [
    "# Check for Missing Values for World Happiness Report 2017\n",
    "df_whr17.isnull().sum()"
   ]
  },
  {
   "cell_type": "code",
   "execution_count": 48,
   "id": "658f3741-a15c-434c-af58-dd6ed02ab473",
   "metadata": {},
   "outputs": [
    {
     "data": {
      "text/plain": [
       "Country                         0\n",
       "Happiness Score                 0\n",
       "GDP per Capita                  0\n",
       "Social Support                  0\n",
       "Healthy Life Expectancy         0\n",
       "Freedom to make life choices    0\n",
       "Generosity                      0\n",
       "Perceptions of Corruption       1\n",
       "dtype: int64"
      ]
     },
     "execution_count": 48,
     "metadata": {},
     "output_type": "execute_result"
    }
   ],
   "source": [
    "# Check for Missing Values for World Happiness Report 2018\n",
    "df_whr18.isnull().sum()"
   ]
  },
  {
   "cell_type": "code",
   "execution_count": 97,
   "id": "5a1e50de-2a04-447a-aca7-32915fd6605d",
   "metadata": {},
   "outputs": [
    {
     "data": {
      "text/plain": [
       "Country                         0\n",
       "Happiness Score                 0\n",
       "GDP per Capita                  0\n",
       "Social Support                  0\n",
       "Healthy life expectancy         0\n",
       "Freedom to make life choices    0\n",
       "Generosity                      0\n",
       "Perceptions of Corruption       0\n",
       "dtype: int64"
      ]
     },
     "execution_count": 97,
     "metadata": {},
     "output_type": "execute_result"
    }
   ],
   "source": [
    "# Check for Missing Values for World Happiness Report 2019\n",
    "df_whr19.isnull().sum()"
   ]
  },
  {
   "cell_type": "code",
   "execution_count": 98,
   "id": "3db0e97d-6b37-4759-9142-5ad6e31659de",
   "metadata": {},
   "outputs": [
    {
     "data": {
      "text/plain": [
       "Country                         0\n",
       "Happiness Score                 0\n",
       "GDP per Capita                  0\n",
       "Social Support                  0\n",
       "Healthy life expectancy         0\n",
       "Freedom to make life choices    0\n",
       "Generosity                      0\n",
       "Perceptions of Corruption       0\n",
       "dtype: int64"
      ]
     },
     "execution_count": 98,
     "metadata": {},
     "output_type": "execute_result"
    }
   ],
   "source": [
    "# Check for Missing Values for World Happiness Report 2020\n",
    "df_whr20.isnull().sum()"
   ]
  },
  {
   "cell_type": "code",
   "execution_count": 99,
   "id": "38b7c7c7-9912-4f62-bcbf-091c41d58b12",
   "metadata": {},
   "outputs": [
    {
     "data": {
      "text/plain": [
       "Country                         0\n",
       "Happiness Score                 0\n",
       "GDP per Capita                  0\n",
       "Social Support                  0\n",
       "Healthy life expectancy         0\n",
       "Freedom to make life choices    0\n",
       "Generosity                      0\n",
       "Perceptions of Corruption       0\n",
       "dtype: int64"
      ]
     },
     "execution_count": 99,
     "metadata": {},
     "output_type": "execute_result"
    }
   ],
   "source": [
    "# Check for Missing Values for World Happiness Report 2021\n",
    "df_whr21.isnull().sum()"
   ]
  },
  {
   "cell_type": "code",
   "execution_count": 111,
   "id": "554215d9-bbd8-4c50-aa2d-c742f58a5ea1",
   "metadata": {},
   "outputs": [
    {
     "data": {
      "text/plain": [
       "Country                         0\n",
       "Happiness score                 1\n",
       "GDP per Capita                  1\n",
       "Social Support                  1\n",
       "Healthy life expectancy         1\n",
       "Freedom to make life choices    1\n",
       "Generosity                      1\n",
       "Perceptions of Corruption       1\n",
       "dtype: int64"
      ]
     },
     "execution_count": 111,
     "metadata": {},
     "output_type": "execute_result"
    }
   ],
   "source": [
    "# Check for Missing Values for World Happiness Report 2022\n",
    "df_whr22.isnull().sum()"
   ]
  },
  {
   "cell_type": "markdown",
   "id": "9a1e8232-a2be-4333-99bb-9f408a8fe14f",
   "metadata": {},
   "source": [
    "There is a some missing data. 1 value in the 2018 report, and potentially a row for 2022"
   ]
  },
  {
   "cell_type": "markdown",
   "id": "6d93af17-2416-4296-8683-31fa55a57a0d",
   "metadata": {},
   "source": [
    "#### Addressing Missing Values"
   ]
  },
  {
   "cell_type": "code",
   "execution_count": 42,
   "id": "35b29a1c-6d4b-492c-8c84-afb8b4884cf6",
   "metadata": {},
   "outputs": [
    {
     "data": {
      "text/html": [
       "<div>\n",
       "<style scoped>\n",
       "    .dataframe tbody tr th:only-of-type {\n",
       "        vertical-align: middle;\n",
       "    }\n",
       "\n",
       "    .dataframe tbody tr th {\n",
       "        vertical-align: top;\n",
       "    }\n",
       "\n",
       "    .dataframe thead th {\n",
       "        text-align: right;\n",
       "    }\n",
       "</style>\n",
       "<table border=\"1\" class=\"dataframe\">\n",
       "  <thead>\n",
       "    <tr style=\"text-align: right;\">\n",
       "      <th></th>\n",
       "      <th>Country</th>\n",
       "      <th>Happiness Score</th>\n",
       "      <th>GDP per Capita</th>\n",
       "      <th>Social Support</th>\n",
       "      <th>Healthy Life Expectancy</th>\n",
       "      <th>Freedom to make life choices</th>\n",
       "      <th>Generosity</th>\n",
       "      <th>Perceptions of Corruption</th>\n",
       "    </tr>\n",
       "  </thead>\n",
       "  <tbody>\n",
       "    <tr>\n",
       "      <th>19</th>\n",
       "      <td>United Arab Emirates</td>\n",
       "      <td>6.774</td>\n",
       "      <td>2.096</td>\n",
       "      <td>0.776</td>\n",
       "      <td>0.67</td>\n",
       "      <td>0.284</td>\n",
       "      <td>0.186</td>\n",
       "      <td>NaN</td>\n",
       "    </tr>\n",
       "  </tbody>\n",
       "</table>\n",
       "</div>"
      ],
      "text/plain": [
       "                 Country  Happiness Score  GDP per Capita  Social Support  \\\n",
       "19  United Arab Emirates            6.774           2.096           0.776   \n",
       "\n",
       "    Healthy Life Expectancy  Freedom to make life choices  Generosity  \\\n",
       "19                     0.67                         0.284       0.186   \n",
       "\n",
       "    Perceptions of Corruption  \n",
       "19                        NaN  "
      ]
     },
     "execution_count": 42,
     "metadata": {},
     "output_type": "execute_result"
    }
   ],
   "source": [
    "# Creating separate dataframe for missing values (2018)\n",
    "df_whr18_mis = df_whr18[df_whr18['Perceptions of Corruption'].isnull() == True]\n",
    "# Displaying missing values \n",
    "df_whr18_mis.head()"
   ]
  },
  {
   "cell_type": "markdown",
   "id": "67e912e1-d7e8-4dbc-8725-d37f5930f8ae",
   "metadata": {},
   "source": [
    "A singular missing value, I don't want to remove this row as it can still prove valueable. I'll just impute the median perceptions of corruption for this year."
   ]
  },
  {
   "cell_type": "code",
   "execution_count": 43,
   "id": "32eceec7-6600-45b8-9a47-1e48005e49bd",
   "metadata": {},
   "outputs": [
    {
     "name": "stdout",
     "output_type": "stream",
     "text": [
      "0.082\n"
     ]
    }
   ],
   "source": [
    "# Finding the Median value for 2018 WHR Perceptions of Corruption\n",
    "median_18 = df_whr18['Perceptions of Corruption'].median()\n",
    "print(median_18)"
   ]
  },
  {
   "cell_type": "code",
   "execution_count": 44,
   "id": "4dedc81f-f631-4316-92c8-b9a2972f3040",
   "metadata": {},
   "outputs": [],
   "source": [
    "# Inserting median value into Missing value\n",
    "df_whr18.loc[df_whr18['Country'] == 'United Arab Emirates', 'Perceptions of Corruption'] = median_18"
   ]
  },
  {
   "cell_type": "code",
   "execution_count": 45,
   "id": "50b70120-a6df-445f-aa34-c40449a113d0",
   "metadata": {},
   "outputs": [],
   "source": [
    "#Checking Row\n",
    "uae = df_whr18.loc[df_whr18['Country'] == 'United Arab Emirates']"
   ]
  },
  {
   "cell_type": "code",
   "execution_count": 46,
   "id": "50a4b160-8f32-483b-b6f4-54dee4f83556",
   "metadata": {},
   "outputs": [
    {
     "name": "stdout",
     "output_type": "stream",
     "text": [
      "                 Country  Happiness Score  GDP per Capita  Social Support  \\\n",
      "19  United Arab Emirates            6.774           2.096           0.776   \n",
      "\n",
      "    Healthy Life Expectancy  Freedom to make life choices  Generosity  \\\n",
      "19                     0.67                         0.284       0.186   \n",
      "\n",
      "    Perceptions of Corruption  \n",
      "19                      0.082  \n"
     ]
    }
   ],
   "source": [
    "print(uae)"
   ]
  },
  {
   "cell_type": "code",
   "execution_count": 49,
   "id": "1601a5af-e709-4f8e-b8f6-7ae31abeda12",
   "metadata": {},
   "outputs": [
    {
     "data": {
      "text/plain": [
       "Country                         0\n",
       "Happiness Score                 0\n",
       "GDP per Capita                  0\n",
       "Social Support                  0\n",
       "Healthy Life Expectancy         0\n",
       "Freedom to make life choices    0\n",
       "Generosity                      0\n",
       "Perceptions of Corruption       0\n",
       "dtype: int64"
      ]
     },
     "execution_count": 49,
     "metadata": {},
     "output_type": "execute_result"
    }
   ],
   "source": [
    "# Check for Missing Values for World Happiness Report 2018\n",
    "df_whr18.isnull().sum()"
   ]
  },
  {
   "cell_type": "code",
   "execution_count": 50,
   "id": "7fed6d43-ab76-435a-a472-735d1b677323",
   "metadata": {},
   "outputs": [
    {
     "data": {
      "text/html": [
       "<div>\n",
       "<style scoped>\n",
       "    .dataframe tbody tr th:only-of-type {\n",
       "        vertical-align: middle;\n",
       "    }\n",
       "\n",
       "    .dataframe tbody tr th {\n",
       "        vertical-align: top;\n",
       "    }\n",
       "\n",
       "    .dataframe thead th {\n",
       "        text-align: right;\n",
       "    }\n",
       "</style>\n",
       "<table border=\"1\" class=\"dataframe\">\n",
       "  <thead>\n",
       "    <tr style=\"text-align: right;\">\n",
       "      <th></th>\n",
       "      <th>Country</th>\n",
       "      <th>Happiness Score</th>\n",
       "      <th>GDP per Capita</th>\n",
       "      <th>Social Support</th>\n",
       "      <th>Healthy Life Expectancy</th>\n",
       "      <th>Freedom to make life choices</th>\n",
       "      <th>Generosity</th>\n",
       "      <th>Perceptions of Corruption</th>\n",
       "    </tr>\n",
       "  </thead>\n",
       "  <tbody>\n",
       "    <tr>\n",
       "      <th>146</th>\n",
       "      <td>xx</td>\n",
       "      <td>NaN</td>\n",
       "      <td>NaN</td>\n",
       "      <td>NaN</td>\n",
       "      <td>NaN</td>\n",
       "      <td>NaN</td>\n",
       "      <td>NaN</td>\n",
       "      <td>NaN</td>\n",
       "    </tr>\n",
       "  </tbody>\n",
       "</table>\n",
       "</div>"
      ],
      "text/plain": [
       "    Country  Happiness Score  GDP per Capita  Social Support  \\\n",
       "146      xx              NaN             NaN             NaN   \n",
       "\n",
       "     Healthy Life Expectancy  Freedom to make life choices  Generosity  \\\n",
       "146                      NaN                           NaN         NaN   \n",
       "\n",
       "     Perceptions of Corruption  \n",
       "146                        NaN  "
      ]
     },
     "execution_count": 50,
     "metadata": {},
     "output_type": "execute_result"
    }
   ],
   "source": [
    "# Creating separate dataframe for missing values (2022)\n",
    "df_whr22_mis = df_whr22[df_whr22['Perceptions of Corruption'].isnull() == True]\n",
    "# Displaying missing values \n",
    "df_whr22_mis.head()"
   ]
  },
  {
   "cell_type": "markdown",
   "id": "9ece35f0-9c43-41e7-b7ee-0d6660754ac0",
   "metadata": {},
   "source": [
    "Seems like an empty row with ano real country (as it lines up with the missing value check), so I'll just remove this."
   ]
  },
  {
   "cell_type": "code",
   "execution_count": 51,
   "id": "62927e2e-b513-4439-ab95-dff7f9030001",
   "metadata": {},
   "outputs": [],
   "source": [
    "# Removing all rows that have N/A (In this case it should only be one row)\n",
    "df_whr22_C = df_whr22.dropna()"
   ]
  },
  {
   "cell_type": "code",
   "execution_count": 52,
   "id": "bcc6902c-49a1-42d6-8976-137b4141c71f",
   "metadata": {},
   "outputs": [
    {
     "data": {
      "text/html": [
       "<div>\n",
       "<style scoped>\n",
       "    .dataframe tbody tr th:only-of-type {\n",
       "        vertical-align: middle;\n",
       "    }\n",
       "\n",
       "    .dataframe tbody tr th {\n",
       "        vertical-align: top;\n",
       "    }\n",
       "\n",
       "    .dataframe thead th {\n",
       "        text-align: right;\n",
       "    }\n",
       "</style>\n",
       "<table border=\"1\" class=\"dataframe\">\n",
       "  <thead>\n",
       "    <tr style=\"text-align: right;\">\n",
       "      <th></th>\n",
       "      <th>Country</th>\n",
       "      <th>Happiness Score</th>\n",
       "      <th>GDP per Capita</th>\n",
       "      <th>Social Support</th>\n",
       "      <th>Healthy Life Expectancy</th>\n",
       "      <th>Freedom to make life choices</th>\n",
       "      <th>Generosity</th>\n",
       "      <th>Perceptions of Corruption</th>\n",
       "    </tr>\n",
       "  </thead>\n",
       "  <tbody>\n",
       "    <tr>\n",
       "      <th>0</th>\n",
       "      <td>Finland</td>\n",
       "      <td>7.821</td>\n",
       "      <td>1.892</td>\n",
       "      <td>1.258</td>\n",
       "      <td>0.775</td>\n",
       "      <td>0.736</td>\n",
       "      <td>0.109</td>\n",
       "      <td>0.534</td>\n",
       "    </tr>\n",
       "    <tr>\n",
       "      <th>1</th>\n",
       "      <td>Denmark</td>\n",
       "      <td>7.636</td>\n",
       "      <td>1.953</td>\n",
       "      <td>1.243</td>\n",
       "      <td>0.777</td>\n",
       "      <td>0.719</td>\n",
       "      <td>0.188</td>\n",
       "      <td>0.532</td>\n",
       "    </tr>\n",
       "    <tr>\n",
       "      <th>2</th>\n",
       "      <td>Iceland</td>\n",
       "      <td>7.557</td>\n",
       "      <td>1.936</td>\n",
       "      <td>1.320</td>\n",
       "      <td>0.803</td>\n",
       "      <td>0.718</td>\n",
       "      <td>0.270</td>\n",
       "      <td>0.191</td>\n",
       "    </tr>\n",
       "    <tr>\n",
       "      <th>3</th>\n",
       "      <td>Switzerland</td>\n",
       "      <td>7.512</td>\n",
       "      <td>2.026</td>\n",
       "      <td>1.226</td>\n",
       "      <td>0.822</td>\n",
       "      <td>0.677</td>\n",
       "      <td>0.147</td>\n",
       "      <td>0.461</td>\n",
       "    </tr>\n",
       "    <tr>\n",
       "      <th>4</th>\n",
       "      <td>Netherlands</td>\n",
       "      <td>7.415</td>\n",
       "      <td>1.945</td>\n",
       "      <td>1.206</td>\n",
       "      <td>0.787</td>\n",
       "      <td>0.651</td>\n",
       "      <td>0.271</td>\n",
       "      <td>0.419</td>\n",
       "    </tr>\n",
       "    <tr>\n",
       "      <th>...</th>\n",
       "      <td>...</td>\n",
       "      <td>...</td>\n",
       "      <td>...</td>\n",
       "      <td>...</td>\n",
       "      <td>...</td>\n",
       "      <td>...</td>\n",
       "      <td>...</td>\n",
       "      <td>...</td>\n",
       "    </tr>\n",
       "    <tr>\n",
       "      <th>141</th>\n",
       "      <td>Botswana*</td>\n",
       "      <td>3.471</td>\n",
       "      <td>1.503</td>\n",
       "      <td>0.815</td>\n",
       "      <td>0.280</td>\n",
       "      <td>0.571</td>\n",
       "      <td>0.012</td>\n",
       "      <td>0.102</td>\n",
       "    </tr>\n",
       "    <tr>\n",
       "      <th>142</th>\n",
       "      <td>Rwanda*</td>\n",
       "      <td>3.268</td>\n",
       "      <td>0.785</td>\n",
       "      <td>0.133</td>\n",
       "      <td>0.462</td>\n",
       "      <td>0.621</td>\n",
       "      <td>0.187</td>\n",
       "      <td>0.544</td>\n",
       "    </tr>\n",
       "    <tr>\n",
       "      <th>143</th>\n",
       "      <td>Zimbabwe</td>\n",
       "      <td>2.995</td>\n",
       "      <td>0.947</td>\n",
       "      <td>0.690</td>\n",
       "      <td>0.270</td>\n",
       "      <td>0.329</td>\n",
       "      <td>0.106</td>\n",
       "      <td>0.105</td>\n",
       "    </tr>\n",
       "    <tr>\n",
       "      <th>144</th>\n",
       "      <td>Lebanon</td>\n",
       "      <td>2.955</td>\n",
       "      <td>1.392</td>\n",
       "      <td>0.498</td>\n",
       "      <td>0.631</td>\n",
       "      <td>0.103</td>\n",
       "      <td>0.082</td>\n",
       "      <td>0.034</td>\n",
       "    </tr>\n",
       "    <tr>\n",
       "      <th>145</th>\n",
       "      <td>Afghanistan</td>\n",
       "      <td>2.404</td>\n",
       "      <td>0.758</td>\n",
       "      <td>0.000</td>\n",
       "      <td>0.289</td>\n",
       "      <td>0.000</td>\n",
       "      <td>0.089</td>\n",
       "      <td>0.005</td>\n",
       "    </tr>\n",
       "  </tbody>\n",
       "</table>\n",
       "<p>146 rows × 8 columns</p>\n",
       "</div>"
      ],
      "text/plain": [
       "         Country  Happiness Score  GDP per Capita  Social Support  \\\n",
       "0        Finland            7.821           1.892           1.258   \n",
       "1        Denmark            7.636           1.953           1.243   \n",
       "2        Iceland            7.557           1.936           1.320   \n",
       "3    Switzerland            7.512           2.026           1.226   \n",
       "4    Netherlands            7.415           1.945           1.206   \n",
       "..           ...              ...             ...             ...   \n",
       "141    Botswana*            3.471           1.503           0.815   \n",
       "142      Rwanda*            3.268           0.785           0.133   \n",
       "143     Zimbabwe            2.995           0.947           0.690   \n",
       "144      Lebanon            2.955           1.392           0.498   \n",
       "145  Afghanistan            2.404           0.758           0.000   \n",
       "\n",
       "     Healthy Life Expectancy  Freedom to make life choices  Generosity  \\\n",
       "0                      0.775                         0.736       0.109   \n",
       "1                      0.777                         0.719       0.188   \n",
       "2                      0.803                         0.718       0.270   \n",
       "3                      0.822                         0.677       0.147   \n",
       "4                      0.787                         0.651       0.271   \n",
       "..                       ...                           ...         ...   \n",
       "141                    0.280                         0.571       0.012   \n",
       "142                    0.462                         0.621       0.187   \n",
       "143                    0.270                         0.329       0.106   \n",
       "144                    0.631                         0.103       0.082   \n",
       "145                    0.289                         0.000       0.089   \n",
       "\n",
       "     Perceptions of Corruption  \n",
       "0                        0.534  \n",
       "1                        0.532  \n",
       "2                        0.191  \n",
       "3                        0.461  \n",
       "4                        0.419  \n",
       "..                         ...  \n",
       "141                      0.102  \n",
       "142                      0.544  \n",
       "143                      0.105  \n",
       "144                      0.034  \n",
       "145                      0.005  \n",
       "\n",
       "[146 rows x 8 columns]"
      ]
     },
     "execution_count": 52,
     "metadata": {},
     "output_type": "execute_result"
    }
   ],
   "source": [
    "df_whr22_C"
   ]
  },
  {
   "cell_type": "code",
   "execution_count": 53,
   "id": "9abc4929-f150-4c54-bbd0-306c79728508",
   "metadata": {},
   "outputs": [
    {
     "data": {
      "text/plain": [
       "Country                         0\n",
       "Happiness Score                 0\n",
       "GDP per Capita                  0\n",
       "Social Support                  0\n",
       "Healthy Life Expectancy         0\n",
       "Freedom to make life choices    0\n",
       "Generosity                      0\n",
       "Perceptions of Corruption       0\n",
       "dtype: int64"
      ]
     },
     "execution_count": 53,
     "metadata": {},
     "output_type": "execute_result"
    }
   ],
   "source": [
    "# Verifying Cleaning Worked\n",
    "df_whr22_C.isnull().sum()"
   ]
  },
  {
   "cell_type": "markdown",
   "id": "7f837831-e861-468f-80dc-cb3cd3d23cc6",
   "metadata": {},
   "source": [
    "We have one less row than the original dataframe (147), so the my cleaning was correct"
   ]
  },
  {
   "cell_type": "markdown",
   "id": "5b9bb16e-0ff0-4082-ba89-a07feba53aa6",
   "metadata": {
    "jp-MarkdownHeadingCollapsed": true
   },
   "source": [
    "### Duplicate Data"
   ]
  },
  {
   "cell_type": "code",
   "execution_count": 126,
   "id": "9900980a-1912-4a25-b3eb-6e4ddc3da3d9",
   "metadata": {},
   "outputs": [
    {
     "data": {
      "text/html": [
       "<div>\n",
       "<style scoped>\n",
       "    .dataframe tbody tr th:only-of-type {\n",
       "        vertical-align: middle;\n",
       "    }\n",
       "\n",
       "    .dataframe tbody tr th {\n",
       "        vertical-align: top;\n",
       "    }\n",
       "\n",
       "    .dataframe thead th {\n",
       "        text-align: right;\n",
       "    }\n",
       "</style>\n",
       "<table border=\"1\" class=\"dataframe\">\n",
       "  <thead>\n",
       "    <tr style=\"text-align: right;\">\n",
       "      <th></th>\n",
       "      <th>Country</th>\n",
       "      <th>Happiness Score</th>\n",
       "      <th>GDP per Capita</th>\n",
       "      <th>Social Support</th>\n",
       "      <th>Healthy Life Expectancy</th>\n",
       "      <th>Freedom to make life choices</th>\n",
       "      <th>Perceptions of Corruption</th>\n",
       "      <th>Generosity</th>\n",
       "    </tr>\n",
       "  </thead>\n",
       "  <tbody>\n",
       "  </tbody>\n",
       "</table>\n",
       "</div>"
      ],
      "text/plain": [
       "Empty DataFrame\n",
       "Columns: [Country, Happiness Score, GDP per Capita, Social Support, Healthy Life Expectancy, Freedom to make life choices, Perceptions of Corruption, Generosity]\n",
       "Index: []"
      ]
     },
     "execution_count": 126,
     "metadata": {},
     "output_type": "execute_result"
    }
   ],
   "source": [
    "#Checking for Duplicate Values 2015\n",
    "df_dups15 = df_whr15[df_whr15.duplicated()]\n",
    "df_dups15"
   ]
  },
  {
   "cell_type": "code",
   "execution_count": 127,
   "id": "bde5ad4a-a8e8-47e3-93d4-33011d704675",
   "metadata": {},
   "outputs": [
    {
     "data": {
      "text/html": [
       "<div>\n",
       "<style scoped>\n",
       "    .dataframe tbody tr th:only-of-type {\n",
       "        vertical-align: middle;\n",
       "    }\n",
       "\n",
       "    .dataframe tbody tr th {\n",
       "        vertical-align: top;\n",
       "    }\n",
       "\n",
       "    .dataframe thead th {\n",
       "        text-align: right;\n",
       "    }\n",
       "</style>\n",
       "<table border=\"1\" class=\"dataframe\">\n",
       "  <thead>\n",
       "    <tr style=\"text-align: right;\">\n",
       "      <th></th>\n",
       "      <th>Country</th>\n",
       "      <th>Happiness Score</th>\n",
       "      <th>GDP per Capita</th>\n",
       "      <th>Social Support</th>\n",
       "      <th>Healthy Life Expectancy</th>\n",
       "      <th>Freedom to make life choices</th>\n",
       "      <th>Perceptions of Corruption</th>\n",
       "      <th>Generosity</th>\n",
       "    </tr>\n",
       "  </thead>\n",
       "  <tbody>\n",
       "  </tbody>\n",
       "</table>\n",
       "</div>"
      ],
      "text/plain": [
       "Empty DataFrame\n",
       "Columns: [Country, Happiness Score, GDP per Capita, Social Support, Healthy Life Expectancy, Freedom to make life choices, Perceptions of Corruption, Generosity]\n",
       "Index: []"
      ]
     },
     "execution_count": 127,
     "metadata": {},
     "output_type": "execute_result"
    }
   ],
   "source": [
    "#Checking for Duplicate Values 2016\n",
    "df_dups16 = df_whr16[df_whr16.duplicated()]\n",
    "df_dups16"
   ]
  },
  {
   "cell_type": "code",
   "execution_count": 128,
   "id": "225bc67a-d626-45d9-8d95-dc53bd0cd5a8",
   "metadata": {},
   "outputs": [
    {
     "data": {
      "text/html": [
       "<div>\n",
       "<style scoped>\n",
       "    .dataframe tbody tr th:only-of-type {\n",
       "        vertical-align: middle;\n",
       "    }\n",
       "\n",
       "    .dataframe tbody tr th {\n",
       "        vertical-align: top;\n",
       "    }\n",
       "\n",
       "    .dataframe thead th {\n",
       "        text-align: right;\n",
       "    }\n",
       "</style>\n",
       "<table border=\"1\" class=\"dataframe\">\n",
       "  <thead>\n",
       "    <tr style=\"text-align: right;\">\n",
       "      <th></th>\n",
       "      <th>Country</th>\n",
       "      <th>Happiness Score</th>\n",
       "      <th>GDP per Capita</th>\n",
       "      <th>Social Support</th>\n",
       "      <th>Healthy Life Expectancy</th>\n",
       "      <th>Freedom to make life choices</th>\n",
       "      <th>Generosity</th>\n",
       "      <th>Perceptions of Corruption</th>\n",
       "    </tr>\n",
       "  </thead>\n",
       "  <tbody>\n",
       "  </tbody>\n",
       "</table>\n",
       "</div>"
      ],
      "text/plain": [
       "Empty DataFrame\n",
       "Columns: [Country, Happiness Score, GDP per Capita, Social Support, Healthy Life Expectancy, Freedom to make life choices, Generosity, Perceptions of Corruption]\n",
       "Index: []"
      ]
     },
     "execution_count": 128,
     "metadata": {},
     "output_type": "execute_result"
    }
   ],
   "source": [
    "#Checking for Duplicate Values 2017\n",
    "df_dups17 = df_whr17[df_whr17.duplicated()]\n",
    "df_dups17"
   ]
  },
  {
   "cell_type": "code",
   "execution_count": 129,
   "id": "1a0d9049-887e-4b4a-9eb6-d176bbb4d351",
   "metadata": {},
   "outputs": [
    {
     "data": {
      "text/html": [
       "<div>\n",
       "<style scoped>\n",
       "    .dataframe tbody tr th:only-of-type {\n",
       "        vertical-align: middle;\n",
       "    }\n",
       "\n",
       "    .dataframe tbody tr th {\n",
       "        vertical-align: top;\n",
       "    }\n",
       "\n",
       "    .dataframe thead th {\n",
       "        text-align: right;\n",
       "    }\n",
       "</style>\n",
       "<table border=\"1\" class=\"dataframe\">\n",
       "  <thead>\n",
       "    <tr style=\"text-align: right;\">\n",
       "      <th></th>\n",
       "      <th>Country</th>\n",
       "      <th>Happiness Score</th>\n",
       "      <th>GDP per Capita</th>\n",
       "      <th>Social Support</th>\n",
       "      <th>Healthy life expectancy</th>\n",
       "      <th>Freedom to make life choices</th>\n",
       "      <th>Generosity</th>\n",
       "      <th>Perceptions of Corruption</th>\n",
       "    </tr>\n",
       "  </thead>\n",
       "  <tbody>\n",
       "  </tbody>\n",
       "</table>\n",
       "</div>"
      ],
      "text/plain": [
       "Empty DataFrame\n",
       "Columns: [Country, Happiness Score, GDP per Capita, Social Support, Healthy life expectancy, Freedom to make life choices, Generosity, Perceptions of Corruption]\n",
       "Index: []"
      ]
     },
     "execution_count": 129,
     "metadata": {},
     "output_type": "execute_result"
    }
   ],
   "source": [
    "#Checking for Duplicate Values 2018\n",
    "df_dups18 = df_whr18[df_whr18.duplicated()]\n",
    "df_dups18"
   ]
  },
  {
   "cell_type": "code",
   "execution_count": 130,
   "id": "c46d310f-8722-440b-b923-e0f30b5e1b32",
   "metadata": {},
   "outputs": [
    {
     "data": {
      "text/html": [
       "<div>\n",
       "<style scoped>\n",
       "    .dataframe tbody tr th:only-of-type {\n",
       "        vertical-align: middle;\n",
       "    }\n",
       "\n",
       "    .dataframe tbody tr th {\n",
       "        vertical-align: top;\n",
       "    }\n",
       "\n",
       "    .dataframe thead th {\n",
       "        text-align: right;\n",
       "    }\n",
       "</style>\n",
       "<table border=\"1\" class=\"dataframe\">\n",
       "  <thead>\n",
       "    <tr style=\"text-align: right;\">\n",
       "      <th></th>\n",
       "      <th>Country</th>\n",
       "      <th>Happiness Score</th>\n",
       "      <th>GDP per Capita</th>\n",
       "      <th>Social Support</th>\n",
       "      <th>Healthy life expectancy</th>\n",
       "      <th>Freedom to make life choices</th>\n",
       "      <th>Generosity</th>\n",
       "      <th>Perceptions of Corruption</th>\n",
       "    </tr>\n",
       "  </thead>\n",
       "  <tbody>\n",
       "  </tbody>\n",
       "</table>\n",
       "</div>"
      ],
      "text/plain": [
       "Empty DataFrame\n",
       "Columns: [Country, Happiness Score, GDP per Capita, Social Support, Healthy life expectancy, Freedom to make life choices, Generosity, Perceptions of Corruption]\n",
       "Index: []"
      ]
     },
     "execution_count": 130,
     "metadata": {},
     "output_type": "execute_result"
    }
   ],
   "source": [
    "#Checking for Duplicate Values 2019\n",
    "df_dups19 = df_whr19[df_whr19.duplicated()]\n",
    "df_dups19"
   ]
  },
  {
   "cell_type": "code",
   "execution_count": 131,
   "id": "8b0f19ce-cfa0-4874-8172-b3f3506e315e",
   "metadata": {},
   "outputs": [
    {
     "data": {
      "text/html": [
       "<div>\n",
       "<style scoped>\n",
       "    .dataframe tbody tr th:only-of-type {\n",
       "        vertical-align: middle;\n",
       "    }\n",
       "\n",
       "    .dataframe tbody tr th {\n",
       "        vertical-align: top;\n",
       "    }\n",
       "\n",
       "    .dataframe thead th {\n",
       "        text-align: right;\n",
       "    }\n",
       "</style>\n",
       "<table border=\"1\" class=\"dataframe\">\n",
       "  <thead>\n",
       "    <tr style=\"text-align: right;\">\n",
       "      <th></th>\n",
       "      <th>Country</th>\n",
       "      <th>Happiness Score</th>\n",
       "      <th>GDP per Capita</th>\n",
       "      <th>Social Support</th>\n",
       "      <th>Healthy life expectancy</th>\n",
       "      <th>Freedom to make life choices</th>\n",
       "      <th>Generosity</th>\n",
       "      <th>Perceptions of Corruption</th>\n",
       "    </tr>\n",
       "  </thead>\n",
       "  <tbody>\n",
       "  </tbody>\n",
       "</table>\n",
       "</div>"
      ],
      "text/plain": [
       "Empty DataFrame\n",
       "Columns: [Country, Happiness Score, GDP per Capita, Social Support, Healthy life expectancy, Freedom to make life choices, Generosity, Perceptions of Corruption]\n",
       "Index: []"
      ]
     },
     "execution_count": 131,
     "metadata": {},
     "output_type": "execute_result"
    }
   ],
   "source": [
    "#Checking for Duplicate Values 2020\n",
    "df_dups20 = df_whr20[df_whr20.duplicated()]\n",
    "df_dups20"
   ]
  },
  {
   "cell_type": "code",
   "execution_count": 132,
   "id": "3591b589-4b58-4093-948e-55f3f5f8ed85",
   "metadata": {},
   "outputs": [
    {
     "data": {
      "text/html": [
       "<div>\n",
       "<style scoped>\n",
       "    .dataframe tbody tr th:only-of-type {\n",
       "        vertical-align: middle;\n",
       "    }\n",
       "\n",
       "    .dataframe tbody tr th {\n",
       "        vertical-align: top;\n",
       "    }\n",
       "\n",
       "    .dataframe thead th {\n",
       "        text-align: right;\n",
       "    }\n",
       "</style>\n",
       "<table border=\"1\" class=\"dataframe\">\n",
       "  <thead>\n",
       "    <tr style=\"text-align: right;\">\n",
       "      <th></th>\n",
       "      <th>Country</th>\n",
       "      <th>Happiness Score</th>\n",
       "      <th>GDP per Capita</th>\n",
       "      <th>Social Support</th>\n",
       "      <th>Healthy life expectancy</th>\n",
       "      <th>Freedom to make life choices</th>\n",
       "      <th>Generosity</th>\n",
       "      <th>Perceptions of Corruption</th>\n",
       "    </tr>\n",
       "  </thead>\n",
       "  <tbody>\n",
       "  </tbody>\n",
       "</table>\n",
       "</div>"
      ],
      "text/plain": [
       "Empty DataFrame\n",
       "Columns: [Country, Happiness Score, GDP per Capita, Social Support, Healthy life expectancy, Freedom to make life choices, Generosity, Perceptions of Corruption]\n",
       "Index: []"
      ]
     },
     "execution_count": 132,
     "metadata": {},
     "output_type": "execute_result"
    }
   ],
   "source": [
    "#Checking for Duplicate Values 2021\n",
    "df_dups21 = df_whr21[df_whr21.duplicated()]\n",
    "df_dups21"
   ]
  },
  {
   "cell_type": "code",
   "execution_count": 133,
   "id": "d0ed0422-695c-4d89-b4bf-b2f46dc30617",
   "metadata": {},
   "outputs": [
    {
     "data": {
      "text/html": [
       "<div>\n",
       "<style scoped>\n",
       "    .dataframe tbody tr th:only-of-type {\n",
       "        vertical-align: middle;\n",
       "    }\n",
       "\n",
       "    .dataframe tbody tr th {\n",
       "        vertical-align: top;\n",
       "    }\n",
       "\n",
       "    .dataframe thead th {\n",
       "        text-align: right;\n",
       "    }\n",
       "</style>\n",
       "<table border=\"1\" class=\"dataframe\">\n",
       "  <thead>\n",
       "    <tr style=\"text-align: right;\">\n",
       "      <th></th>\n",
       "      <th>Country</th>\n",
       "      <th>Happiness score</th>\n",
       "      <th>GDP per Capita</th>\n",
       "      <th>Social Support</th>\n",
       "      <th>Healthy life expectancy</th>\n",
       "      <th>Freedom to make life choices</th>\n",
       "      <th>Generosity</th>\n",
       "      <th>Perceptions of Corruption</th>\n",
       "    </tr>\n",
       "  </thead>\n",
       "  <tbody>\n",
       "  </tbody>\n",
       "</table>\n",
       "</div>"
      ],
      "text/plain": [
       "Empty DataFrame\n",
       "Columns: [Country, Happiness score, GDP per Capita, Social Support, Healthy life expectancy, Freedom to make life choices, Generosity, Perceptions of Corruption]\n",
       "Index: []"
      ]
     },
     "execution_count": 133,
     "metadata": {},
     "output_type": "execute_result"
    }
   ],
   "source": [
    "#Checking for Duplicate Values 2022\n",
    "df_dups22 = df_whr22[df_whr22.duplicated()]\n",
    "df_dups22"
   ]
  },
  {
   "cell_type": "markdown",
   "id": "d2274a4a-dff7-4936-b2ec-4e61dfad0c9c",
   "metadata": {},
   "source": [
    "No Duplicate Values found"
   ]
  },
  {
   "cell_type": "markdown",
   "id": "c829e99c-f1e0-4610-bac7-73aa50dd9fd7",
   "metadata": {},
   "source": [
    "# 04 Data Wrangling "
   ]
  },
  {
   "cell_type": "markdown",
   "id": "ef3f5ea4-e377-43d6-b5b9-a5d6425d640b",
   "metadata": {},
   "source": [
    "## Adding Year Columns"
   ]
  },
  {
   "cell_type": "markdown",
   "id": "5cbad1bb-bfaa-41fe-a9b8-c3b012f6b7ba",
   "metadata": {},
   "source": [
    "Since I'm merging all the years for the World Happiness Report for each country I need to differentiate each report by year, so I'm adding a year column for each sheet. "
   ]
  },
  {
   "cell_type": "code",
   "execution_count": 54,
   "id": "e218b1ec-24f8-46c9-b5a7-939b5b49760e",
   "metadata": {},
   "outputs": [],
   "source": [
    "# Adding a new Year column for WHR 2015 \n",
    "df_whr15['Year'] = 2015"
   ]
  },
  {
   "cell_type": "code",
   "execution_count": 55,
   "id": "e1a62294-524a-4bfe-ac7a-ce8a53e6e366",
   "metadata": {},
   "outputs": [],
   "source": [
    "# Adding a new Year column for WHR 2016\n",
    "df_whr16['Year'] = 2016"
   ]
  },
  {
   "cell_type": "code",
   "execution_count": 56,
   "id": "5740ef1d-2eef-481d-b37d-f4f5c17fdbbf",
   "metadata": {},
   "outputs": [],
   "source": [
    "# Adding a new Year column for WHR 2017\n",
    "df_whr17['Year'] = 2017"
   ]
  },
  {
   "cell_type": "code",
   "execution_count": 57,
   "id": "3c1b9d78-5123-44aa-8488-79c8579d879b",
   "metadata": {},
   "outputs": [],
   "source": [
    "# Adding a new Year column for WHR 2018 \n",
    "df_whr18['Year'] = 2018"
   ]
  },
  {
   "cell_type": "code",
   "execution_count": 58,
   "id": "41695d68-1a2f-4f57-bfbc-8d3bdabc6bd5",
   "metadata": {},
   "outputs": [],
   "source": [
    "# Adding a new Year column for WHR 2019\n",
    "df_whr19['Year'] = 2019"
   ]
  },
  {
   "cell_type": "code",
   "execution_count": 59,
   "id": "6e6edc82-376f-4fb6-88ca-cb5e2b435b6d",
   "metadata": {},
   "outputs": [],
   "source": [
    "# Adding a new Year column for WHR 2020\n",
    "df_whr20['Year'] = 2020"
   ]
  },
  {
   "cell_type": "code",
   "execution_count": 60,
   "id": "4da8ad6a-fa1f-4113-994f-3efaeeb49b20",
   "metadata": {},
   "outputs": [],
   "source": [
    "# Adding a new Year column for WHR 2021\n",
    "df_whr21['Year'] = 2021"
   ]
  },
  {
   "cell_type": "code",
   "execution_count": 61,
   "id": "142ed207-1b6b-46a0-a540-972fbec0ce1f",
   "metadata": {},
   "outputs": [
    {
     "name": "stderr",
     "output_type": "stream",
     "text": [
      "C:\\Users\\Rajit\\AppData\\Local\\Temp\\ipykernel_19184\\740497296.py:2: SettingWithCopyWarning: \n",
      "A value is trying to be set on a copy of a slice from a DataFrame.\n",
      "Try using .loc[row_indexer,col_indexer] = value instead\n",
      "\n",
      "See the caveats in the documentation: https://pandas.pydata.org/pandas-docs/stable/user_guide/indexing.html#returning-a-view-versus-a-copy\n",
      "  df_whr22_C['Year'] = 2022\n"
     ]
    }
   ],
   "source": [
    "# Adding a new Year column for WHR 2022\n",
    "df_whr22_C['Year'] = 2022"
   ]
  },
  {
   "cell_type": "code",
   "execution_count": 62,
   "id": "2d90ac7f-dfc7-4fcb-ad1d-d26e56a5d32d",
   "metadata": {},
   "outputs": [
    {
     "data": {
      "text/html": [
       "<div>\n",
       "<style scoped>\n",
       "    .dataframe tbody tr th:only-of-type {\n",
       "        vertical-align: middle;\n",
       "    }\n",
       "\n",
       "    .dataframe tbody tr th {\n",
       "        vertical-align: top;\n",
       "    }\n",
       "\n",
       "    .dataframe thead th {\n",
       "        text-align: right;\n",
       "    }\n",
       "</style>\n",
       "<table border=\"1\" class=\"dataframe\">\n",
       "  <thead>\n",
       "    <tr style=\"text-align: right;\">\n",
       "      <th></th>\n",
       "      <th>Country</th>\n",
       "      <th>Happiness Score</th>\n",
       "      <th>GDP per Capita</th>\n",
       "      <th>Social Support</th>\n",
       "      <th>Healthy Life Expectancy</th>\n",
       "      <th>Freedom to make life choices</th>\n",
       "      <th>Generosity</th>\n",
       "      <th>Perceptions of Corruption</th>\n",
       "      <th>Year</th>\n",
       "    </tr>\n",
       "  </thead>\n",
       "  <tbody>\n",
       "    <tr>\n",
       "      <th>0</th>\n",
       "      <td>Finland</td>\n",
       "      <td>7.821</td>\n",
       "      <td>1.892</td>\n",
       "      <td>1.258</td>\n",
       "      <td>0.775</td>\n",
       "      <td>0.736</td>\n",
       "      <td>0.109</td>\n",
       "      <td>0.534</td>\n",
       "      <td>2022</td>\n",
       "    </tr>\n",
       "    <tr>\n",
       "      <th>1</th>\n",
       "      <td>Denmark</td>\n",
       "      <td>7.636</td>\n",
       "      <td>1.953</td>\n",
       "      <td>1.243</td>\n",
       "      <td>0.777</td>\n",
       "      <td>0.719</td>\n",
       "      <td>0.188</td>\n",
       "      <td>0.532</td>\n",
       "      <td>2022</td>\n",
       "    </tr>\n",
       "    <tr>\n",
       "      <th>2</th>\n",
       "      <td>Iceland</td>\n",
       "      <td>7.557</td>\n",
       "      <td>1.936</td>\n",
       "      <td>1.320</td>\n",
       "      <td>0.803</td>\n",
       "      <td>0.718</td>\n",
       "      <td>0.270</td>\n",
       "      <td>0.191</td>\n",
       "      <td>2022</td>\n",
       "    </tr>\n",
       "    <tr>\n",
       "      <th>3</th>\n",
       "      <td>Switzerland</td>\n",
       "      <td>7.512</td>\n",
       "      <td>2.026</td>\n",
       "      <td>1.226</td>\n",
       "      <td>0.822</td>\n",
       "      <td>0.677</td>\n",
       "      <td>0.147</td>\n",
       "      <td>0.461</td>\n",
       "      <td>2022</td>\n",
       "    </tr>\n",
       "    <tr>\n",
       "      <th>4</th>\n",
       "      <td>Netherlands</td>\n",
       "      <td>7.415</td>\n",
       "      <td>1.945</td>\n",
       "      <td>1.206</td>\n",
       "      <td>0.787</td>\n",
       "      <td>0.651</td>\n",
       "      <td>0.271</td>\n",
       "      <td>0.419</td>\n",
       "      <td>2022</td>\n",
       "    </tr>\n",
       "  </tbody>\n",
       "</table>\n",
       "</div>"
      ],
      "text/plain": [
       "       Country  Happiness Score  GDP per Capita  Social Support  \\\n",
       "0      Finland            7.821           1.892           1.258   \n",
       "1      Denmark            7.636           1.953           1.243   \n",
       "2      Iceland            7.557           1.936           1.320   \n",
       "3  Switzerland            7.512           2.026           1.226   \n",
       "4  Netherlands            7.415           1.945           1.206   \n",
       "\n",
       "   Healthy Life Expectancy  Freedom to make life choices  Generosity  \\\n",
       "0                    0.775                         0.736       0.109   \n",
       "1                    0.777                         0.719       0.188   \n",
       "2                    0.803                         0.718       0.270   \n",
       "3                    0.822                         0.677       0.147   \n",
       "4                    0.787                         0.651       0.271   \n",
       "\n",
       "   Perceptions of Corruption  Year  \n",
       "0                      0.534  2022  \n",
       "1                      0.532  2022  \n",
       "2                      0.191  2022  \n",
       "3                      0.461  2022  \n",
       "4                      0.419  2022  "
      ]
     },
     "execution_count": 62,
     "metadata": {},
     "output_type": "execute_result"
    }
   ],
   "source": [
    "# Checking each dataframe\n",
    "df_whr22_C.head()"
   ]
  },
  {
   "cell_type": "markdown",
   "id": "36b3dafa-d6c9-4547-932d-25aafc5c9474",
   "metadata": {},
   "source": [
    "## Ordering Columns"
   ]
  },
  {
   "cell_type": "code",
   "execution_count": 63,
   "id": "8138af09-38af-4cf2-8399-a5c5d5259f0e",
   "metadata": {},
   "outputs": [],
   "source": [
    "#Defining a new order for columns (for consistency)\n",
    "new_order = ['Year', 'Country', 'Happiness Score', 'GDP per Capita', 'Social Support', \n",
    "             'Healthy Life Expectancy', 'Freedom to make life choices', 'Generosity', \n",
    "             'Perceptions of Corruption']"
   ]
  },
  {
   "cell_type": "code",
   "execution_count": 64,
   "id": "33abca80-cab5-4ba9-9719-dac817cf5af5",
   "metadata": {},
   "outputs": [],
   "source": [
    "# Reordering WHR 2015\n",
    "df_whr15 = df_whr15[new_order]"
   ]
  },
  {
   "cell_type": "code",
   "execution_count": 65,
   "id": "57366cf0-2756-49cc-ba4d-a20814d52fa6",
   "metadata": {},
   "outputs": [],
   "source": [
    "# Reordering WHR 2016\n",
    "df_whr16 = df_whr16[new_order]"
   ]
  },
  {
   "cell_type": "code",
   "execution_count": 66,
   "id": "feae2510-043f-4e69-b2d1-164ceb3dec73",
   "metadata": {},
   "outputs": [],
   "source": [
    "# Reordering WHR 2017\n",
    "df_whr17 = df_whr17[new_order]"
   ]
  },
  {
   "cell_type": "code",
   "execution_count": 67,
   "id": "6d95702a-58d1-40d3-8c6a-a5dae4178cd8",
   "metadata": {},
   "outputs": [],
   "source": [
    "# Reordering WHR 2018\n",
    "df_whr18= df_whr18[new_order]"
   ]
  },
  {
   "cell_type": "code",
   "execution_count": 68,
   "id": "709a0974-8a1c-4c72-8b7f-cacb803476ee",
   "metadata": {},
   "outputs": [],
   "source": [
    "# Reordering WHR 2019\n",
    "df_whr19 = df_whr19[new_order]"
   ]
  },
  {
   "cell_type": "code",
   "execution_count": 69,
   "id": "1f7efec9-603c-447b-a01b-8bc31a57df4a",
   "metadata": {},
   "outputs": [],
   "source": [
    "# Reordering WHR 2020\n",
    "df_whr20 = df_whr20[new_order]"
   ]
  },
  {
   "cell_type": "code",
   "execution_count": 70,
   "id": "9c7fee4a-e27b-4542-b6eb-e28984d27947",
   "metadata": {},
   "outputs": [],
   "source": [
    "# Reordering WHR 2021\n",
    "df_whr21 = df_whr21[new_order]"
   ]
  },
  {
   "cell_type": "code",
   "execution_count": 71,
   "id": "af3a3b4d-9037-4d9d-b03c-68b31f21a548",
   "metadata": {},
   "outputs": [],
   "source": [
    "# Reordering WHR 2022\n",
    "df_whr22_C = df_whr22_C[new_order]"
   ]
  },
  {
   "cell_type": "code",
   "execution_count": 89,
   "id": "1d174db4-f044-42b0-aed2-abaa244700fe",
   "metadata": {},
   "outputs": [
    {
     "data": {
      "text/html": [
       "<div>\n",
       "<style scoped>\n",
       "    .dataframe tbody tr th:only-of-type {\n",
       "        vertical-align: middle;\n",
       "    }\n",
       "\n",
       "    .dataframe tbody tr th {\n",
       "        vertical-align: top;\n",
       "    }\n",
       "\n",
       "    .dataframe thead th {\n",
       "        text-align: right;\n",
       "    }\n",
       "</style>\n",
       "<table border=\"1\" class=\"dataframe\">\n",
       "  <thead>\n",
       "    <tr style=\"text-align: right;\">\n",
       "      <th></th>\n",
       "      <th>Year</th>\n",
       "      <th>Country</th>\n",
       "      <th>Happiness Score</th>\n",
       "      <th>GDP per Capita</th>\n",
       "      <th>Social Support</th>\n",
       "      <th>Healthy Life Expectancy</th>\n",
       "      <th>Freedom to make life choices</th>\n",
       "      <th>Generosity</th>\n",
       "      <th>Perceptions of Corruption</th>\n",
       "    </tr>\n",
       "  </thead>\n",
       "  <tbody>\n",
       "    <tr>\n",
       "      <th>0</th>\n",
       "      <td>2022</td>\n",
       "      <td>Finland</td>\n",
       "      <td>7.821</td>\n",
       "      <td>1.892</td>\n",
       "      <td>1.258</td>\n",
       "      <td>0.775</td>\n",
       "      <td>0.736</td>\n",
       "      <td>0.109</td>\n",
       "      <td>0.534</td>\n",
       "    </tr>\n",
       "    <tr>\n",
       "      <th>1</th>\n",
       "      <td>2022</td>\n",
       "      <td>Denmark</td>\n",
       "      <td>7.636</td>\n",
       "      <td>1.953</td>\n",
       "      <td>1.243</td>\n",
       "      <td>0.777</td>\n",
       "      <td>0.719</td>\n",
       "      <td>0.188</td>\n",
       "      <td>0.532</td>\n",
       "    </tr>\n",
       "    <tr>\n",
       "      <th>2</th>\n",
       "      <td>2022</td>\n",
       "      <td>Iceland</td>\n",
       "      <td>7.557</td>\n",
       "      <td>1.936</td>\n",
       "      <td>1.320</td>\n",
       "      <td>0.803</td>\n",
       "      <td>0.718</td>\n",
       "      <td>0.270</td>\n",
       "      <td>0.191</td>\n",
       "    </tr>\n",
       "    <tr>\n",
       "      <th>3</th>\n",
       "      <td>2022</td>\n",
       "      <td>Switzerland</td>\n",
       "      <td>7.512</td>\n",
       "      <td>2.026</td>\n",
       "      <td>1.226</td>\n",
       "      <td>0.822</td>\n",
       "      <td>0.677</td>\n",
       "      <td>0.147</td>\n",
       "      <td>0.461</td>\n",
       "    </tr>\n",
       "    <tr>\n",
       "      <th>4</th>\n",
       "      <td>2022</td>\n",
       "      <td>Netherlands</td>\n",
       "      <td>7.415</td>\n",
       "      <td>1.945</td>\n",
       "      <td>1.206</td>\n",
       "      <td>0.787</td>\n",
       "      <td>0.651</td>\n",
       "      <td>0.271</td>\n",
       "      <td>0.419</td>\n",
       "    </tr>\n",
       "    <tr>\n",
       "      <th>...</th>\n",
       "      <td>...</td>\n",
       "      <td>...</td>\n",
       "      <td>...</td>\n",
       "      <td>...</td>\n",
       "      <td>...</td>\n",
       "      <td>...</td>\n",
       "      <td>...</td>\n",
       "      <td>...</td>\n",
       "      <td>...</td>\n",
       "    </tr>\n",
       "    <tr>\n",
       "      <th>141</th>\n",
       "      <td>2022</td>\n",
       "      <td>Botswana*</td>\n",
       "      <td>3.471</td>\n",
       "      <td>1.503</td>\n",
       "      <td>0.815</td>\n",
       "      <td>0.280</td>\n",
       "      <td>0.571</td>\n",
       "      <td>0.012</td>\n",
       "      <td>0.102</td>\n",
       "    </tr>\n",
       "    <tr>\n",
       "      <th>142</th>\n",
       "      <td>2022</td>\n",
       "      <td>Rwanda*</td>\n",
       "      <td>3.268</td>\n",
       "      <td>0.785</td>\n",
       "      <td>0.133</td>\n",
       "      <td>0.462</td>\n",
       "      <td>0.621</td>\n",
       "      <td>0.187</td>\n",
       "      <td>0.544</td>\n",
       "    </tr>\n",
       "    <tr>\n",
       "      <th>143</th>\n",
       "      <td>2022</td>\n",
       "      <td>Zimbabwe</td>\n",
       "      <td>2.995</td>\n",
       "      <td>0.947</td>\n",
       "      <td>0.690</td>\n",
       "      <td>0.270</td>\n",
       "      <td>0.329</td>\n",
       "      <td>0.106</td>\n",
       "      <td>0.105</td>\n",
       "    </tr>\n",
       "    <tr>\n",
       "      <th>144</th>\n",
       "      <td>2022</td>\n",
       "      <td>Lebanon</td>\n",
       "      <td>2.955</td>\n",
       "      <td>1.392</td>\n",
       "      <td>0.498</td>\n",
       "      <td>0.631</td>\n",
       "      <td>0.103</td>\n",
       "      <td>0.082</td>\n",
       "      <td>0.034</td>\n",
       "    </tr>\n",
       "    <tr>\n",
       "      <th>145</th>\n",
       "      <td>2022</td>\n",
       "      <td>Afghanistan</td>\n",
       "      <td>2.404</td>\n",
       "      <td>0.758</td>\n",
       "      <td>0.000</td>\n",
       "      <td>0.289</td>\n",
       "      <td>0.000</td>\n",
       "      <td>0.089</td>\n",
       "      <td>0.005</td>\n",
       "    </tr>\n",
       "  </tbody>\n",
       "</table>\n",
       "<p>146 rows × 9 columns</p>\n",
       "</div>"
      ],
      "text/plain": [
       "     Year      Country  Happiness Score  GDP per Capita  Social Support  \\\n",
       "0    2022      Finland            7.821           1.892           1.258   \n",
       "1    2022      Denmark            7.636           1.953           1.243   \n",
       "2    2022      Iceland            7.557           1.936           1.320   \n",
       "3    2022  Switzerland            7.512           2.026           1.226   \n",
       "4    2022  Netherlands            7.415           1.945           1.206   \n",
       "..    ...          ...              ...             ...             ...   \n",
       "141  2022    Botswana*            3.471           1.503           0.815   \n",
       "142  2022      Rwanda*            3.268           0.785           0.133   \n",
       "143  2022     Zimbabwe            2.995           0.947           0.690   \n",
       "144  2022      Lebanon            2.955           1.392           0.498   \n",
       "145  2022  Afghanistan            2.404           0.758           0.000   \n",
       "\n",
       "     Healthy Life Expectancy  Freedom to make life choices  Generosity  \\\n",
       "0                      0.775                         0.736       0.109   \n",
       "1                      0.777                         0.719       0.188   \n",
       "2                      0.803                         0.718       0.270   \n",
       "3                      0.822                         0.677       0.147   \n",
       "4                      0.787                         0.651       0.271   \n",
       "..                       ...                           ...         ...   \n",
       "141                    0.280                         0.571       0.012   \n",
       "142                    0.462                         0.621       0.187   \n",
       "143                    0.270                         0.329       0.106   \n",
       "144                    0.631                         0.103       0.082   \n",
       "145                    0.289                         0.000       0.089   \n",
       "\n",
       "     Perceptions of Corruption  \n",
       "0                        0.534  \n",
       "1                        0.532  \n",
       "2                        0.191  \n",
       "3                        0.461  \n",
       "4                        0.419  \n",
       "..                         ...  \n",
       "141                      0.102  \n",
       "142                      0.544  \n",
       "143                      0.105  \n",
       "144                      0.034  \n",
       "145                      0.005  \n",
       "\n",
       "[146 rows x 9 columns]"
      ]
     },
     "execution_count": 89,
     "metadata": {},
     "output_type": "execute_result"
    }
   ],
   "source": [
    "df_whr22_C"
   ]
  },
  {
   "cell_type": "markdown",
   "id": "c44664c6-d294-4313-bae3-42c7255f6788",
   "metadata": {},
   "source": [
    "## Merging Datasets"
   ]
  },
  {
   "cell_type": "code",
   "execution_count": 75,
   "id": "3a777a1e-f5e6-4b64-88e9-977b9b04e47b",
   "metadata": {},
   "outputs": [],
   "source": [
    "# Concatenating dataframe since they have sam\n",
    "dataframe_list = [df_whr15, df_whr16, df_whr17, df_whr18, df_whr19, df_whr20, df_whr21, df_whr22_C]"
   ]
  },
  {
   "cell_type": "code",
   "execution_count": 77,
   "id": "866f6ca0-29d7-4936-9668-ab3fea3edc6d",
   "metadata": {},
   "outputs": [],
   "source": [
    "# Concatenate all DataFrames\n",
    "df_merged = pd.concat(dataframe_list, ignore_index=True)"
   ]
  },
  {
   "cell_type": "code",
   "execution_count": 78,
   "id": "1630369a-5fcf-41b4-928e-6551d4665e4f",
   "metadata": {},
   "outputs": [
    {
     "data": {
      "text/html": [
       "<div>\n",
       "<style scoped>\n",
       "    .dataframe tbody tr th:only-of-type {\n",
       "        vertical-align: middle;\n",
       "    }\n",
       "\n",
       "    .dataframe tbody tr th {\n",
       "        vertical-align: top;\n",
       "    }\n",
       "\n",
       "    .dataframe thead th {\n",
       "        text-align: right;\n",
       "    }\n",
       "</style>\n",
       "<table border=\"1\" class=\"dataframe\">\n",
       "  <thead>\n",
       "    <tr style=\"text-align: right;\">\n",
       "      <th></th>\n",
       "      <th>Year</th>\n",
       "      <th>Country</th>\n",
       "      <th>Happiness Score</th>\n",
       "      <th>GDP per Capita</th>\n",
       "      <th>Social Support</th>\n",
       "      <th>Healthy Life Expectancy</th>\n",
       "      <th>Freedom to make life choices</th>\n",
       "      <th>Generosity</th>\n",
       "      <th>Perceptions of Corruption</th>\n",
       "    </tr>\n",
       "  </thead>\n",
       "  <tbody>\n",
       "    <tr>\n",
       "      <th>0</th>\n",
       "      <td>2015</td>\n",
       "      <td>Switzerland</td>\n",
       "      <td>7.587</td>\n",
       "      <td>1.39651</td>\n",
       "      <td>1.34951</td>\n",
       "      <td>0.94143</td>\n",
       "      <td>0.66557</td>\n",
       "      <td>0.29678</td>\n",
       "      <td>0.41978</td>\n",
       "    </tr>\n",
       "    <tr>\n",
       "      <th>1</th>\n",
       "      <td>2015</td>\n",
       "      <td>Iceland</td>\n",
       "      <td>7.561</td>\n",
       "      <td>1.30232</td>\n",
       "      <td>1.40223</td>\n",
       "      <td>0.94784</td>\n",
       "      <td>0.62877</td>\n",
       "      <td>0.43630</td>\n",
       "      <td>0.14145</td>\n",
       "    </tr>\n",
       "    <tr>\n",
       "      <th>2</th>\n",
       "      <td>2015</td>\n",
       "      <td>Denmark</td>\n",
       "      <td>7.527</td>\n",
       "      <td>1.32548</td>\n",
       "      <td>1.36058</td>\n",
       "      <td>0.87464</td>\n",
       "      <td>0.64938</td>\n",
       "      <td>0.34139</td>\n",
       "      <td>0.48357</td>\n",
       "    </tr>\n",
       "    <tr>\n",
       "      <th>3</th>\n",
       "      <td>2015</td>\n",
       "      <td>Norway</td>\n",
       "      <td>7.522</td>\n",
       "      <td>1.45900</td>\n",
       "      <td>1.33095</td>\n",
       "      <td>0.88521</td>\n",
       "      <td>0.66973</td>\n",
       "      <td>0.34699</td>\n",
       "      <td>0.36503</td>\n",
       "    </tr>\n",
       "    <tr>\n",
       "      <th>4</th>\n",
       "      <td>2015</td>\n",
       "      <td>Canada</td>\n",
       "      <td>7.427</td>\n",
       "      <td>1.32629</td>\n",
       "      <td>1.32261</td>\n",
       "      <td>0.90563</td>\n",
       "      <td>0.63297</td>\n",
       "      <td>0.45811</td>\n",
       "      <td>0.32957</td>\n",
       "    </tr>\n",
       "    <tr>\n",
       "      <th>...</th>\n",
       "      <td>...</td>\n",
       "      <td>...</td>\n",
       "      <td>...</td>\n",
       "      <td>...</td>\n",
       "      <td>...</td>\n",
       "      <td>...</td>\n",
       "      <td>...</td>\n",
       "      <td>...</td>\n",
       "      <td>...</td>\n",
       "    </tr>\n",
       "    <tr>\n",
       "      <th>1225</th>\n",
       "      <td>2022</td>\n",
       "      <td>Botswana*</td>\n",
       "      <td>3.471</td>\n",
       "      <td>1.50300</td>\n",
       "      <td>0.81500</td>\n",
       "      <td>0.28000</td>\n",
       "      <td>0.57100</td>\n",
       "      <td>0.01200</td>\n",
       "      <td>0.10200</td>\n",
       "    </tr>\n",
       "    <tr>\n",
       "      <th>1226</th>\n",
       "      <td>2022</td>\n",
       "      <td>Rwanda*</td>\n",
       "      <td>3.268</td>\n",
       "      <td>0.78500</td>\n",
       "      <td>0.13300</td>\n",
       "      <td>0.46200</td>\n",
       "      <td>0.62100</td>\n",
       "      <td>0.18700</td>\n",
       "      <td>0.54400</td>\n",
       "    </tr>\n",
       "    <tr>\n",
       "      <th>1227</th>\n",
       "      <td>2022</td>\n",
       "      <td>Zimbabwe</td>\n",
       "      <td>2.995</td>\n",
       "      <td>0.94700</td>\n",
       "      <td>0.69000</td>\n",
       "      <td>0.27000</td>\n",
       "      <td>0.32900</td>\n",
       "      <td>0.10600</td>\n",
       "      <td>0.10500</td>\n",
       "    </tr>\n",
       "    <tr>\n",
       "      <th>1228</th>\n",
       "      <td>2022</td>\n",
       "      <td>Lebanon</td>\n",
       "      <td>2.955</td>\n",
       "      <td>1.39200</td>\n",
       "      <td>0.49800</td>\n",
       "      <td>0.63100</td>\n",
       "      <td>0.10300</td>\n",
       "      <td>0.08200</td>\n",
       "      <td>0.03400</td>\n",
       "    </tr>\n",
       "    <tr>\n",
       "      <th>1229</th>\n",
       "      <td>2022</td>\n",
       "      <td>Afghanistan</td>\n",
       "      <td>2.404</td>\n",
       "      <td>0.75800</td>\n",
       "      <td>0.00000</td>\n",
       "      <td>0.28900</td>\n",
       "      <td>0.00000</td>\n",
       "      <td>0.08900</td>\n",
       "      <td>0.00500</td>\n",
       "    </tr>\n",
       "  </tbody>\n",
       "</table>\n",
       "<p>1230 rows × 9 columns</p>\n",
       "</div>"
      ],
      "text/plain": [
       "      Year      Country  Happiness Score  GDP per Capita  Social Support  \\\n",
       "0     2015  Switzerland            7.587         1.39651         1.34951   \n",
       "1     2015      Iceland            7.561         1.30232         1.40223   \n",
       "2     2015      Denmark            7.527         1.32548         1.36058   \n",
       "3     2015       Norway            7.522         1.45900         1.33095   \n",
       "4     2015       Canada            7.427         1.32629         1.32261   \n",
       "...    ...          ...              ...             ...             ...   \n",
       "1225  2022    Botswana*            3.471         1.50300         0.81500   \n",
       "1226  2022      Rwanda*            3.268         0.78500         0.13300   \n",
       "1227  2022     Zimbabwe            2.995         0.94700         0.69000   \n",
       "1228  2022      Lebanon            2.955         1.39200         0.49800   \n",
       "1229  2022  Afghanistan            2.404         0.75800         0.00000   \n",
       "\n",
       "      Healthy Life Expectancy  Freedom to make life choices  Generosity  \\\n",
       "0                     0.94143                       0.66557     0.29678   \n",
       "1                     0.94784                       0.62877     0.43630   \n",
       "2                     0.87464                       0.64938     0.34139   \n",
       "3                     0.88521                       0.66973     0.34699   \n",
       "4                     0.90563                       0.63297     0.45811   \n",
       "...                       ...                           ...         ...   \n",
       "1225                  0.28000                       0.57100     0.01200   \n",
       "1226                  0.46200                       0.62100     0.18700   \n",
       "1227                  0.27000                       0.32900     0.10600   \n",
       "1228                  0.63100                       0.10300     0.08200   \n",
       "1229                  0.28900                       0.00000     0.08900   \n",
       "\n",
       "      Perceptions of Corruption  \n",
       "0                       0.41978  \n",
       "1                       0.14145  \n",
       "2                       0.48357  \n",
       "3                       0.36503  \n",
       "4                       0.32957  \n",
       "...                         ...  \n",
       "1225                    0.10200  \n",
       "1226                    0.54400  \n",
       "1227                    0.10500  \n",
       "1228                    0.03400  \n",
       "1229                    0.00500  \n",
       "\n",
       "[1230 rows x 9 columns]"
      ]
     },
     "execution_count": 78,
     "metadata": {},
     "output_type": "execute_result"
    }
   ],
   "source": [
    "df_merged"
   ]
  },
  {
   "cell_type": "markdown",
   "id": "325aea8e-d2ed-4b84-b52b-196288e2663e",
   "metadata": {},
   "source": [
    "# 05 Exporting Data"
   ]
  },
  {
   "cell_type": "markdown",
   "id": "4e387940-e404-44ba-903c-ab83bdf3a7d5",
   "metadata": {},
   "source": [
    "## Exporting Individual Sheets"
   ]
  },
  {
   "cell_type": "markdown",
   "id": "51362b85-719d-4dc5-b6d9-6e44ea198496",
   "metadata": {},
   "source": [
    "I'm Exporting the individual sheets just incase I decide to do something else with them indivudually"
   ]
  },
  {
   "cell_type": "code",
   "execution_count": 73,
   "id": "43ad7842-db0c-4002-b723-b1e946f03137",
   "metadata": {},
   "outputs": [],
   "source": [
    "# Exporting df_whr15\n",
    "df_whr15.to_csv(os.path.join(path, '02 Data','Prepared Data', 'WHR2015_Clean.csv'))"
   ]
  },
  {
   "cell_type": "code",
   "execution_count": 74,
   "id": "a6af9d39-9e85-4469-949d-5f1f993f3c6d",
   "metadata": {},
   "outputs": [],
   "source": [
    "# Exporting df_whr16\n",
    "df_whr16.to_csv(os.path.join(path, '02 Data','Prepared Data', 'WHR2016_Clean.csv'))\n",
    "\n",
    "# Exporting df_whr17\n",
    "df_whr17.to_csv(os.path.join(path, '02 Data','Prepared Data', 'WHR2017_Clean.csv'))\n",
    "\n",
    "# Exporting df_whr18\n",
    "df_whr18.to_csv(os.path.join(path, '02 Data','Prepared Data', 'WHR2018_Clean.csv'))\n",
    "\n",
    "# Exporting df_whr19\n",
    "df_whr19.to_csv(os.path.join(path, '02 Data','Prepared Data', 'WHR2019_Clean.csv'))\n",
    "\n",
    "# Exporting df_whr20\n",
    "df_whr20.to_csv(os.path.join(path, '02 Data','Prepared Data', 'WHR2020_Clean.csv'))\n",
    "\n",
    "# Exporting df_whr21\n",
    "df_whr21.to_csv(os.path.join(path, '02 Data','Prepared Data', 'WHR2021_Clean.csv'))\n",
    "\n",
    "# Exporting df_whr22_C\n",
    "df_whr22_C.to_csv(os.path.join(path, '02 Data','Prepared Data', 'WHR2022_Clean.csv'))"
   ]
  },
  {
   "cell_type": "markdown",
   "id": "b43f1e73-e690-4626-911c-64dfe09616cd",
   "metadata": {},
   "source": [
    "## Exporting Merged Sheet"
   ]
  },
  {
   "cell_type": "code",
   "execution_count": 90,
   "id": "84ecc476-4957-4d65-902d-fe57a15b5ff7",
   "metadata": {},
   "outputs": [],
   "source": [
    "# Exporting df_merged\n",
    "df_merged.to_csv(os.path.join(path, '02 Data','Prepared Data', 'WHRMerged.csv'))"
   ]
  }
 ],
 "metadata": {
  "kernelspec": {
   "display_name": "Python 3 (ipykernel)",
   "language": "python",
   "name": "python3"
  },
  "language_info": {
   "codemirror_mode": {
    "name": "ipython",
    "version": 3
   },
   "file_extension": ".py",
   "mimetype": "text/x-python",
   "name": "python",
   "nbconvert_exporter": "python",
   "pygments_lexer": "ipython3",
   "version": "3.11.7"
  }
 },
 "nbformat": 4,
 "nbformat_minor": 5
}
